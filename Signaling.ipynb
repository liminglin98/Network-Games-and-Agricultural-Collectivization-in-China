{
 "cells": [
  {
   "cell_type": "code",
   "execution_count": 3,
   "id": "8f4cc1d0",
   "metadata": {},
   "outputs": [],
   "source": [
    "# Loading packages\n",
    "using SymPy, LinearAlgebra, Latexify"
   ]
  },
  {
   "cell_type": "code",
   "execution_count": 4,
   "id": "291b3c68",
   "metadata": {},
   "outputs": [
    {
     "name": "stdout",
     "output_type": "stream",
     "text": [
      "Gamma matrix:\n"
     ]
    },
    {
     "data": {
      "text/latex": [
       "$\\left[\\begin{smallmatrix}\\frac{p \\left(1 - q\\right)^{2}}{p \\left(1 - q\\right) + q \\left(1 - p\\right)} + \\frac{\\beta_{l} q^{2} \\left(1 - p\\right)}{\\beta_{h} \\left(p \\left(1 - q\\right) + q \\left(1 - p\\right)\\right)} & \\frac{p q \\left(1 - q\\right)}{p \\left(1 - q\\right) + q \\left(1 - p\\right)} + \\frac{\\beta_{l} q \\left(1 - p\\right) \\left(1 - q\\right)}{\\beta_{h} \\left(p \\left(1 - q\\right) + q \\left(1 - p\\right)\\right)}\\\\\\frac{p q \\left(1 - q\\right)}{p q + \\left(1 - p\\right) \\left(1 - q\\right)} + \\frac{\\beta_{l} q \\left(1 - p\\right) \\left(1 - q\\right)}{\\beta_{h} \\left(p q + \\left(1 - p\\right) \\left(1 - q\\right)\\right)} & \\frac{p q^{2}}{p q + \\left(1 - p\\right) \\left(1 - q\\right)} + \\frac{\\beta_{l} \\left(1 - p\\right) \\left(1 - q\\right)^{2}}{\\beta_{h} \\left(p q + \\left(1 - p\\right) \\left(1 - q\\right)\\right)}\\end{smallmatrix}\\right]$"
      ],
      "text/plain": [
       "2×2 Matrix{Sym{PyCall.PyObject}}:\n",
       "       p*(1 - q)^2/(p*(1 - q) + q*(1 - p)) + beta_l*q^2*(1 - p)/(beta_h*(p*(1 - q) + q*(1 - p)))  …  p*q*(1 - q)/(p*(1 - q) + q*(1 - p)) + beta_l*q*(1 - p)*(1 - q)/(beta_h*(p*(1 - q) + q*(1 - p)))\n",
       " p*q*(1 - q)/(p*q + (1 - p)*(1 - q)) + beta_l*q*(1 - p)*(1 - q)/(beta_h*(p*q + (1 - p)*(1 - q)))           p*q^2/(p*q + (1 - p)*(1 - q)) + beta_l*(1 - p)*(1 - q)^2/(beta_h*(p*q + (1 - p)*(1 - q)))"
      ]
     },
     "metadata": {},
     "output_type": "display_data"
    }
   ],
   "source": [
    "#Define Symbols\n",
    "@syms p q beta_l beta_h\n",
    "\n",
    "#Define denominators\n",
    "den1 = q*(1-p) + (1-q)*p # Denominator for Pll, Plh\n",
    "den2 = q*p + (1 - q)*(1 - p) # Denominator for Phl, Phh\n",
    "\n",
    "#Define each term\n",
    "# Pll\n",
    "term1_Pll = (q^2 * (1 - p)) / den1 * (beta_l / beta_h)\n",
    "term2_Pll = (p * (1 - q)^2) / den1\n",
    "Pll =term1_Pll + term2_Pll\n",
    "\n",
    "# Plh\n",
    "term1_Plh = ((1 - q) * p * q) / den1\n",
    "term2_Plh = (q * (1 - q) * (1 - p)) / den1 * (beta_l / beta_h)\n",
    "Plh = term1_Plh + term2_Plh\n",
    "\n",
    "# Phl\n",
    "term1_Phl = (q * p * (1 - q)) / den2\n",
    "term2_Phl = ((1 - q) * (1 - p) * q) / den2 * (beta_l / beta_h)\n",
    "Phl = term1_Phl + term2_Phl\n",
    "\n",
    "# Phh\n",
    "term1_Phh = (p * q^2) / den2\n",
    "term2_Phh = ((1 - p) * (1 - q)^2) / den2 * (beta_l / beta_h)\n",
    "Phh = term1_Phh + term2_Phh\n",
    "\n",
    "# Build the full Γ matrix\n",
    "Gamma = SymPy.Matrix([\n",
    "    [Pll Plh];\n",
    "    [Phl Phh]\n",
    "])\n",
    "\n",
    "# Display the matrix\n",
    "println(\"Gamma matrix:\")\n",
    "display(Gamma)"
   ]
  },
  {
   "cell_type": "code",
   "execution_count": 5,
   "id": "7ec6269a",
   "metadata": {},
   "outputs": [
    {
     "data": {
      "text/latex": [
       "$\\left[\\begin{smallmatrix}\\left(1 - q\\right)^{2} + \\frac{\\beta_{l} q^{2}}{\\beta_{h}} & q \\left(1 - q\\right) + \\frac{\\beta_{l} q \\left(1 - q\\right)}{\\beta_{h}}\\\\q \\left(1 - q\\right) + \\frac{\\beta_{l} q \\left(1 - q\\right)}{\\beta_{h}} & q^{2} + \\frac{\\beta_{l} \\left(1 - q\\right)^{2}}{\\beta_{h}}\\end{smallmatrix}\\right]$"
      ],
      "text/plain": [
       "2×2 Matrix{Sym{PyCall.PyObject}}:\n",
       "       (1 - q)^2 + beta_l*q^2/beta_h  q*(1 - q) + beta_l*q*(1 - q)/beta_h\n",
       " q*(1 - q) + beta_l*q*(1 - q)/beta_h        q^2 + beta_l*(1 - q)^2/beta_h"
      ]
     },
     "metadata": {},
     "output_type": "display_data"
    }
   ],
   "source": [
    "#Set p=0.5\n",
    "Gamma_at_p_half = subs.(Gamma, p => Sym(1)//2)\n",
    "Gamma_at_p_half = simplify(Gamma_at_p_half)\n",
    "display(Gamma_at_p_half)"
   ]
  },
  {
   "cell_type": "code",
   "execution_count": 6,
   "id": "7c754938",
   "metadata": {},
   "outputs": [
    {
     "data": {
      "text/latex": [
       "$\\left[\\begin{smallmatrix}\\frac{\\left(\\beta_{h} + \\beta_{l}\\right) \\left(2 q^{2} - 2 q + 1\\right)}{2 \\beta_{h}} - \\frac{\\sqrt{4 \\beta_{h}^{2} q^{4} - 8 \\beta_{h}^{2} q^{3} + 8 \\beta_{h}^{2} q^{2} - 4 \\beta_{h}^{2} q + \\beta_{h}^{2} + 8 \\beta_{h} \\beta_{l} q^{4} - 16 \\beta_{h} \\beta_{l} q^{3} + 8 \\beta_{h} \\beta_{l} q - 2 \\beta_{h} \\beta_{l} + 4 \\beta_{l}^{2} q^{4} - 8 \\beta_{l}^{2} q^{3} + 8 \\beta_{l}^{2} q^{2} - 4 \\beta_{l}^{2} q + \\beta_{l}^{2}}}{2 \\beta_{h}}\\\\\\frac{\\left(\\beta_{h} + \\beta_{l}\\right) \\left(2 q^{2} - 2 q + 1\\right)}{2 \\beta_{h}} + \\frac{\\sqrt{4 \\beta_{h}^{2} q^{4} - 8 \\beta_{h}^{2} q^{3} + 8 \\beta_{h}^{2} q^{2} - 4 \\beta_{h}^{2} q + \\beta_{h}^{2} + 8 \\beta_{h} \\beta_{l} q^{4} - 16 \\beta_{h} \\beta_{l} q^{3} + 8 \\beta_{h} \\beta_{l} q - 2 \\beta_{h} \\beta_{l} + 4 \\beta_{l}^{2} q^{4} - 8 \\beta_{l}^{2} q^{3} + 8 \\beta_{l}^{2} q^{2} - 4 \\beta_{l}^{2} q + \\beta_{l}^{2}}}{2 \\beta_{h}}\\end{smallmatrix}\\right]$"
      ],
      "text/plain": [
       "2-element Vector{Sym{PyCall.PyObject}}:\n",
       " (beta_h + beta_l)*(2*q^2 - 2*q + 1)/(2*beta_h) - sqrt(4*beta_h^2*q^4 - 8*beta_h^2*q^3 + 8*beta_h^2*q^2 - 4*beta_h^2*q + beta_h^2 + 8*beta_h*beta_l*q^4 - 16*beta_h*beta_l*q^3 + 8*beta_h*beta_l*q - 2*beta_h*beta_l + 4*beta_l^2*q^4 - 8*beta_l^2*q^3 + 8*beta_l^2*q^2 - 4*beta_l^2*q + beta_l^2)/(2*beta_h)\n",
       " (beta_h + beta_l)*(2*q^2 - 2*q + 1)/(2*beta_h) + sqrt(4*beta_h^2*q^4 - 8*beta_h^2*q^3 + 8*beta_h^2*q^2 - 4*beta_h^2*q + beta_h^2 + 8*beta_h*beta_l*q^4 - 16*beta_h*beta_l*q^3 + 8*beta_h*beta_l*q - 2*beta_h*beta_l + 4*beta_l^2*q^4 - 8*beta_l^2*q^3 + 8*beta_l^2*q^2 - 4*beta_l^2*q + beta_l^2)/(2*beta_h)"
      ]
     },
     "metadata": {},
     "output_type": "display_data"
    }
   ],
   "source": [
    "#Comput diagonalization of the matrix\n",
    "eigen_data = eigen(Gamma_at_p_half)\n",
    "\n",
    "A = eigen_data.vectors\n",
    "A = simplify(A)\n",
    "A_values = eigen_data.values\n",
    "A_values = simplify(A_values)"
   ]
  },
  {
   "cell_type": "code",
   "execution_count": 7,
   "id": "2995e472",
   "metadata": {},
   "outputs": [
    {
     "data": {
      "text/latex": [
       "$\\left[\\begin{smallmatrix}0.5 q^{2} + \\left(1 - q\\right)^{2} & 1.5 q \\left(1 - q\\right)\\\\1.5 q \\left(1 - q\\right) & q^{2} + 0.5 \\left(1 - q\\right)^{2}\\end{smallmatrix}\\right]$"
      ],
      "text/plain": [
       "2×2 Matrix{Sym{PyCall.PyObject}}:\n",
       " 0.5*q^2 + (1 - q)^2        1.5*q*(1 - q)\n",
       "       1.5*q*(1 - q)  q^2 + 0.5*(1 - q)^2"
      ]
     },
     "metadata": {},
     "output_type": "display_data"
    }
   ],
   "source": [
    "#Case2: beta_l=0.1 beta_h=0.2\n",
    "# Create a substitution dictionary\n",
    "subs_dict_2 = Dict(\n",
    "    p => Sym(1)//2,\n",
    "    beta_l => 0.1,\n",
    "    beta_h => 0.2\n",
    ")\n",
    "Gamma3 = subs.(Gamma, Ref(subs_dict_2))\n",
    "Gamma3 = simplify(Gamma3)\n",
    "display(Gamma3)"
   ]
  },
  {
   "cell_type": "code",
   "execution_count": 10,
   "id": "3ad54b77",
   "metadata": {},
   "outputs": [
    {
     "data": {
      "text/latex": [
       "$\\left[\\begin{smallmatrix}\\frac{3.0 q^{2} - 2.0 q + 1.0}{3.0 q^{2} - 3.0 q} - \\frac{2.0 \\left(1.5 q^{2} - 1.5 q - 2.12132034355964 \\left(0.5 q^{4} - q^{3} + 0.555555555555556 q^{2} - 0.0555555555555556 q + 0.0138888888888889\\right)^{0.5} + 0.75\\right)}{3.0 q^{2} - 3.0 q} & \\frac{3.0 q^{2} - 2.0 q + 1.0}{3.0 q^{2} - 3.0 q} - \\frac{2.0 \\left(1.5 q^{2} - 1.5 q + 2.12132034355964 \\left(0.5 q^{4} - q^{3} + 0.555555555555556 q^{2} - 0.0555555555555556 q + 0.0138888888888889\\right)^{0.5} + 0.75\\right)}{3.0 q^{2} - 3.0 q}\\\\1.0 & 1.0\\end{smallmatrix}\\right]$"
      ],
      "text/plain": [
       "2×2 Matrix{Sym{PyCall.PyObject}}:\n",
       " (3.0*q^2 - 2.0*q + 1.0)/(3.0*q^2 - 3.0*q) - 2.0*(1.5*q^2 - 1.5*q - 2.12132034355964*(0.5*q^4 - q^3 + 0.555555555555556*q^2 - 0.0555555555555556*q + 0.0138888888888889)^0.5 + 0.75)/(3.0*q^2 - 3.0*q)  …  (3.0*q^2 - 2.0*q + 1.0)/(3.0*q^2 - 3.0*q) - 2.0*(1.5*q^2 - 1.5*q + 2.12132034355964*(0.5*q^4 - q^3 + 0.555555555555556*q^2 - 0.0555555555555556*q + 0.0138888888888889)^0.5 + 0.75)/(3.0*q^2 - 3.0*q)\n",
       "                                                                                                                                                                                      1.00000000000000                                                                                                                                                                                          1.00000000000000"
      ]
     },
     "metadata": {},
     "output_type": "display_data"
    }
   ],
   "source": [
    "eigen_data_3 = eigen(Gamma3)\n",
    "A_2_vectors = eigen_data_3.vectors"
   ]
  },
  {
   "cell_type": "code",
   "execution_count": 11,
   "id": "6c166cd0",
   "metadata": {},
   "outputs": [
    {
     "data": {
      "text/latex": [
       "$\\left[\\begin{smallmatrix}1.5 q^{2} - 1.5 q - 2.12132034355964 \\left(0.5 q^{4} - q^{3} + 0.555555555555556 q^{2} - 0.0555555555555556 q + 0.0138888888888889\\right)^{0.5} + 0.75\\\\1.5 q^{2} - 1.5 q + 2.12132034355964 \\left(0.5 q^{4} - q^{3} + 0.555555555555556 q^{2} - 0.0555555555555556 q + 0.0138888888888889\\right)^{0.5} + 0.75\\end{smallmatrix}\\right]$"
      ],
      "text/plain": [
       "2-element Vector{Sym{PyCall.PyObject}}:\n",
       " 1.5*q^2 - 1.5*q - 2.12132034355964*(0.5*q^4 - q^3 + 0.555555555555556*q^2 - 0.0555555555555556*q + 0.0138888888888889)^0.5 + 0.75\n",
       " 1.5*q^2 - 1.5*q + 2.12132034355964*(0.5*q^4 - q^3 + 0.555555555555556*q^2 - 0.0555555555555556*q + 0.0138888888888889)^0.5 + 0.75"
      ]
     },
     "metadata": {},
     "output_type": "display_data"
    }
   ],
   "source": [
    "A_2_values = eigen_data_3.values"
   ]
  },
  {
   "cell_type": "code",
   "execution_count": 12,
   "id": "a98b9776",
   "metadata": {},
   "outputs": [],
   "source": [
    "using SymPy: latex"
   ]
  },
  {
   "cell_type": "code",
   "execution_count": 14,
   "id": "fcc43520",
   "metadata": {},
   "outputs": [
    {
     "data": {
      "text/plain": [
       "17"
      ]
     },
     "metadata": {},
     "output_type": "display_data"
    }
   ],
   "source": [
    "function export_matrix_latex(matrix, filename)\n",
    "    open(filename, \"w\") do f\n",
    "        write(f, \"\\\\[\\n\\\\begin{bmatrix}\\n\")\n",
    "        for i in 1:size(matrix,1)\n",
    "            row_entries = [string(matrix[i,j]) for j in 1:size(matrix,2)]\n",
    "            row_latex = join(row_entries, \" & \")\n",
    "            write(f, row_latex * \"\\\\\\\\\\n\")\n",
    "        end\n",
    "        write(f, \"\\\\end{bmatrix}\\n\\\\]\\n\")\n",
    "    end\n",
    "end\n",
    "\n",
    "# Then call it:\n",
    "export_matrix_latex(A_2_values, \"A_2_values.tex\")\n",
    "export_matrix_latex(A_2_vectors, \"A_2_vectors.tex\")"
   ]
  },
  {
   "cell_type": "code",
   "execution_count": 25,
   "id": "9c43ccfe",
   "metadata": {},
   "outputs": [
    {
     "data": {
      "text/latex": [
       "$1.5 q^{2} - 1.5 q + 2.12132034355964 \\left(0.5 q^{4} - q^{3} + 0.555555555555556 q^{2} - 0.0555555555555556 q + 0.0138888888888889\\right)^{0.5} + 0.75$"
      ],
      "text/plain": [
       "                                                                               >\n",
       "     2                            /     4    3                      2          >\n",
       "1.5*q  - 1.5*q + 2.12132034355964*\\0.5*q  - q  + 0.555555555555556*q  - 0.0555 >\n",
       "\n",
       ">                                     0.5       \n",
       ">                                    \\          \n",
       "> 555555555556*q + 0.0138888888888889/    + 0.75"
      ]
     },
     "metadata": {},
     "output_type": "display_data"
    }
   ],
   "source": [
    "# retrieve each element of eigenvalues\n",
    "lambda_1 = A_2_values[1]\n",
    "lambda_2 = A_2_values[2]\n",
    "\n"
   ]
  },
  {
   "cell_type": "code",
   "execution_count": 16,
   "id": "a59005a8",
   "metadata": {},
   "outputs": [
    {
     "data": {
      "text/plain": [
       "16×16 Matrix{Int64}:\n",
       " 0  1  1  1  1  0  0  0  0  0  0  0  0  0  0  1\n",
       " 1  0  1  1  1  0  0  0  0  0  0  0  0  0  0  0\n",
       " 1  1  0  1  1  0  0  0  0  0  0  0  0  0  0  0\n",
       " 1  1  1  0  1  0  0  0  0  0  0  0  0  0  0  0\n",
       " 1  1  1  1  0  0  0  0  0  0  0  0  0  0  0  0\n",
       " 0  0  0  0  0  0  1  1  1  1  0  0  0  0  0  0\n",
       " 0  0  0  0  0  1  0  1  1  1  0  0  0  0  0  0\n",
       " 0  0  0  0  0  1  1  0  1  1  0  0  0  0  0  0\n",
       " 0  0  0  0  0  1  1  1  0  1  0  0  0  0  0  1\n",
       " 0  0  0  0  0  1  1  1  1  0  0  0  0  0  0  0\n",
       " 0  0  0  0  0  0  0  0  0  0  0  1  1  1  1  0\n",
       " 0  0  0  0  0  0  0  0  0  0  1  0  1  1  1  1\n",
       " 0  0  0  0  0  0  0  0  0  0  1  1  0  1  1  0\n",
       " 0  0  0  0  0  0  0  0  0  0  1  1  1  0  1  0\n",
       " 0  0  0  0  0  0  0  0  0  0  1  1  1  1  0  0\n",
       " 1  0  0  0  0  0  0  0  1  0  0  1  0  0  0  0"
      ]
     },
     "metadata": {},
     "output_type": "display_data"
    }
   ],
   "source": [
    "# Define the symbolic 16×16 G matrix\n",
    "G = SymPy.Matrix([\n",
    "    0 1 1 1 1 0 0 0 0 0 0 0 0 0 0 1;\n",
    "    1 0 1 1 1 0 0 0 0 0 0 0 0 0 0 0;\n",
    "    1 1 0 1 1 0 0 0 0 0 0 0 0 0 0 0;\n",
    "    1 1 1 0 1 0 0 0 0 0 0 0 0 0 0 0;\n",
    "    1 1 1 1 0 0 0 0 0 0 0 0 0 0 0 0;\n",
    "    0 0 0 0 0 0 1 1 1 1 0 0 0 0 0 0;\n",
    "    0 0 0 0 0 1 0 1 1 1 0 0 0 0 0 0;\n",
    "    0 0 0 0 0 1 1 0 1 1 0 0 0 0 0 0;\n",
    "    0 0 0 0 0 1 1 1 0 1 0 0 0 0 0 1;\n",
    "    0 0 0 0 0 1 1 1 1 0 0 0 0 0 0 0;\n",
    "    0 0 0 0 0 0 0 0 0 0 0 1 1 1 1 0;\n",
    "    0 0 0 0 0 0 0 0 0 0 1 0 1 1 1 1;\n",
    "    0 0 0 0 0 0 0 0 0 0 1 1 0 1 1 0;\n",
    "    0 0 0 0 0 0 0 0 0 0 1 1 1 0 1 0;\n",
    "    0 0 0 0 0 0 0 0 0 0 1 1 1 1 0 0;\n",
    "    1 0 0 0 0 0 0 0 1 0 0 1 0 0 0 0\n",
    "])"
   ]
  },
  {
   "cell_type": "code",
   "execution_count": null,
   "id": "34d5bffa",
   "metadata": {},
   "outputs": [],
   "source": [
    "# Calculate b = (I - lambda * beta_h * G)^(-1)\n",
    "n=16\n",
    "beta_h = 0.2\n",
    "I = SymPy.Matrix(LinearAlgebra.I, n, n)\n",
    "b_1 = inv(I - lambda_1 * beta_h * G)"
   ]
  },
  {
   "cell_type": "code",
   "execution_count": 23,
   "id": "fdd53f5b",
   "metadata": {},
   "outputs": [
    {
     "ename": "UndefVarError",
     "evalue": "UndefVarError: `b_1` not defined in `Main`\nSuggestion: check for spelling errors or missing imports.",
     "output_type": "error",
     "traceback": [
      "UndefVarError: `b_1` not defined in `Main`\n",
      "Suggestion: check for spelling errors or missing imports.\n",
      "\n",
      "Stacktrace:\n",
      " [1] top-level scope\n",
      "   @ ~/我的云端硬盘 (liminglin1998@gmail.com)/Sciences Po/Spring 2025/Micro II/Project/jl_notebook_cell_df34fa98e69747e1a8f8a730347b8e2f_X42sZmlsZQ==.jl:2"
     ]
    }
   ],
   "source": [
    "for test_q in [0.1, 0.5, 0.9]\n",
    "    val = subs(b_1, Dict(q => test_q))\n",
    "    println(\"b_1 at q= $test_q : \", val)\n",
    "end"
   ]
  }
 ],
 "metadata": {
  "kernelspec": {
   "display_name": "Julia 1.11.0",
   "language": "julia",
   "name": "julia-1.11"
  },
  "language_info": {
   "file_extension": ".jl",
   "mimetype": "application/julia",
   "name": "julia",
   "version": "1.11.0"
  }
 },
 "nbformat": 4,
 "nbformat_minor": 5
}
