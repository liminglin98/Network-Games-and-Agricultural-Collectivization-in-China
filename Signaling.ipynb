{
 "cells": [
  {
   "cell_type": "code",
   "execution_count": null,
   "id": "560a845b",
   "metadata": {},
   "outputs": [
    {
     "name": "stderr",
     "output_type": "stream",
     "text": [
      "\u001b[32m\u001b[1m    Updating\u001b[22m\u001b[39m registry at `C:\\Users\\earth\\.julia\\registries\\General.toml`\n",
      "\u001b[32m\u001b[1m   Resolving\u001b[22m\u001b[39m package versions...\n",
      "\u001b[32m\u001b[1m   Installed\u001b[22m\u001b[39m SymPy ───────── v2.3.3\n",
      "\u001b[32m\u001b[1m   Installed\u001b[22m\u001b[39m TermInterface ─ v2.0.0\n",
      "\u001b[32m\u001b[1m   Installed\u001b[22m\u001b[39m CommonEq ────── v0.2.1\n",
      "\u001b[32m\u001b[1m   Installed\u001b[22m\u001b[39m SymPyCore ───── v0.3.0\n",
      "\u001b[32m\u001b[1m    Updating\u001b[22m\u001b[39m `C:\\Users\\earth\\.julia\\environments\\v1.11\\Project.toml`\n",
      "  \u001b[90m[24249f21] \u001b[39m\u001b[92m+ SymPy v2.3.3\u001b[39m\n",
      "\u001b[32m\u001b[1m    Updating\u001b[22m\u001b[39m `C:\\Users\\earth\\.julia\\environments\\v1.11\\Manifest.toml`\n",
      "  \u001b[90m[3709ef60] \u001b[39m\u001b[92m+ CommonEq v0.2.1\u001b[39m\n",
      "  \u001b[90m[24249f21] \u001b[39m\u001b[92m+ SymPy v2.3.3\u001b[39m\n",
      "  \u001b[90m[458b697b] \u001b[39m\u001b[92m+ SymPyCore v0.3.0\u001b[39m\n",
      "  \u001b[90m[8ea1fca8] \u001b[39m\u001b[92m+ TermInterface v2.0.0\u001b[39m\n",
      "\u001b[92m\u001b[1mPrecompiling\u001b[22m\u001b[39m project...\n",
      "  13331.7 ms\u001b[32m  ✓ \u001b[39m\u001b[90mCommonEq\u001b[39m\n",
      "   9754.4 ms\u001b[32m  ✓ \u001b[39m\u001b[90mTermInterface\u001b[39m\n",
      "   3666.1 ms\u001b[32m  ✓ \u001b[39m\u001b[90mSymPyCore\u001b[39m\n",
      "   3922.2 ms\u001b[32m  ✓ \u001b[39mSymPy\n",
      "  38520.7 ms\u001b[32m  ✓ \u001b[39m\u001b[90mRoots → RootsSymPyExt\u001b[39m\n",
      "  5 dependencies successfully precompiled in 76 seconds. 346 already precompiled.\n",
      "  \u001b[33m1\u001b[39m dependency had output during precompilation:\u001b[33m\n",
      "┌ \u001b[39mRoots → RootsSymPyExt\u001b[33m\n",
      "│  \u001b[39m\u001b[36m\u001b[1m[ \u001b[22m\u001b[39m\u001b[36m\u001b[1mInfo: \u001b[22m\u001b[39mInstalling sympy via the Conda sympy package...\u001b[33m\n",
      "│  \u001b[39m\u001b[36m\u001b[1m[ \u001b[22m\u001b[39m\u001b[36m\u001b[1mInfo: \u001b[22m\u001b[39mRunning `conda install -y sympy` in root environment\u001b[33m\n",
      "\u001b[33m39mChannels:\n",
      "\u001b[33m39m - defaults\n",
      "\u001b[33m39m - conda-forge\n",
      "\u001b[33m39mPlatform: win-64\n",
      "\u001b[33m39mCollecting package metadata (repodata.json): ...working... done\n",
      "\u001b[33m39mSolving environment: ...working... done\n",
      "\u001b[33m39m\n",
      "\u001b[33m39m\n",
      "\u001b[33m39m==> WARNING: A newer version of conda exists. <==\n",
      "\u001b[33m39m    current version: 24.11.3\n",
      "\u001b[33m39m    latest version: 25.3.1\n",
      "\u001b[33m39m\n",
      "\u001b[33m39mPlease update conda by running\n",
      "\u001b[33m39m\n",
      "\u001b[33m39m    $ conda update -n base -c conda-forge conda\n",
      "\u001b[33m39m\n",
      "\u001b[33m39m\n",
      "\u001b[33m39m\n",
      "\u001b[33m39m## Package Plan ##\n",
      "\u001b[33m39m\n",
      "\u001b[33m39m  environment location: C:\\Users\\earth\\.julia\\conda\\3\\x86_64\n",
      "\u001b[33m39m\n",
      "\u001b[33m39m  added / updated specs:\n",
      "\u001b[33m39m    - sympy\n",
      "\u001b[33m39m\n",
      "\u001b[33m39m\n",
      "\u001b[33m39mThe following NEW packages will be INSTALLED:\n",
      "\u001b[33m39m\n",
      "\u001b[33m39m  gmp                pkgs/main/win-64::gmp-6.3.0-h537511b_0 \n",
      "\u001b[33m39m  gmpy2              pkgs/main/win-64::gmpy2-2.2.1-py312h827c3e9_0 \n",
      "\u001b[33m39m  mpc                pkgs/main/win-64::mpc-1.3.1-h827c3e9_0 \n",
      "\u001b[33m39m  mpfr               pkgs/main/win-64::mpfr-4.2.1-h56c3642_0 \n",
      "\u001b[33m39m  mpmath             pkgs/main/win-64::mpmath-1.3.0-py312haa95532_0 \n",
      "\u001b[33m39m  sympy              pkgs/main/win-64::sympy-1.13.3-py312haa95532_1 \n",
      "\u001b[33m39m\n",
      "\u001b[33m39m\n",
      "\u001b[33m39m\n",
      "\u001b[33m39mDownloading and Extracting Packages: ...working... done\n",
      "\u001b[33m39mPreparing transaction: done\n",
      "\u001b[33m39mVerifying transaction: done\n",
      "│  \u001b[39mExecuting transaction: done\u001b[33m\n",
      "└  \u001b[39m\n"
     ]
    }
   ],
   "source": [
    "using Pkg\n",
    "Pkg.add(\"SymPy\")"
   ]
  },
  {
   "cell_type": "code",
   "execution_count": 9,
   "id": "597d33b9",
   "metadata": {},
   "outputs": [
    {
     "name": "stderr",
     "output_type": "stream",
     "text": [
      "\u001b[32m\u001b[1m   Resolving\u001b[22m\u001b[39m package versions...\n",
      "\u001b[32m\u001b[1m   Installed\u001b[22m\u001b[39m Latexify ─ v0.16.7\n",
      "\u001b[32m\u001b[1m    Updating\u001b[22m\u001b[39m `C:\\Users\\earth\\.julia\\environments\\v1.11\\Project.toml`\n",
      "  \u001b[90m[23fbe1c1] \u001b[39m\u001b[92m+ Latexify v0.16.7\u001b[39m\n",
      "\u001b[32m\u001b[1m    Updating\u001b[22m\u001b[39m `C:\\Users\\earth\\.julia\\environments\\v1.11\\Manifest.toml`\n",
      "  \u001b[90m[23fbe1c1] \u001b[39m\u001b[93m↑ Latexify v0.16.6 ⇒ v0.16.7\u001b[39m\n",
      "\u001b[92m\u001b[1mPrecompiling\u001b[22m\u001b[39m project...\n",
      "   4488.6 ms\u001b[33m  ✓ \u001b[39mLatexify\n",
      "   1865.9 ms\u001b[32m  ✓ \u001b[39mLatexify → SparseArraysExt\n",
      "   1837.7 ms\u001b[32m  ✓ \u001b[39mLatexify → DataFramesExt\n",
      "  3 dependencies successfully precompiled in 10 seconds. 348 already precompiled.\n",
      "  \u001b[33m1\u001b[39m dependency precompiled but a different version is currently loaded. Restart julia to access the new version. Otherwise, loading dependents of this package may trigger further precompilation to work with the unexpected version.\n"
     ]
    }
   ],
   "source": [
    "Pkg.add(\"Latexify\")"
   ]
  },
  {
   "cell_type": "code",
   "execution_count": 25,
   "id": "8f4cc1d0",
   "metadata": {},
   "outputs": [],
   "source": [
    "# Loading packages\n",
    "using SymPy, LinearAlgebra,Latexify"
   ]
  },
  {
   "cell_type": "code",
   "execution_count": 13,
   "id": "291b3c68",
   "metadata": {},
   "outputs": [
    {
     "data": {
      "text/latex": [
       "$\\left[\\begin{smallmatrix}\\frac{p \\left(1 - q\\right)^{2}}{p \\left(1 - q\\right) + q \\left(1 - p\\right)} + \\frac{\\beta_{l} q^{2} \\left(1 - p\\right)}{\\beta_{h} \\left(p \\left(1 - q\\right) + q \\left(1 - p\\right)\\right)} & \\frac{p q \\left(1 - q\\right)}{p \\left(1 - q\\right) + q \\left(1 - p\\right)} + \\frac{\\beta_{l} q \\left(1 - p\\right) \\left(1 - q\\right)}{\\beta_{h} \\left(p \\left(1 - q\\right) + q \\left(1 - p\\right)\\right)}\\\\\\frac{p q \\left(1 - q\\right)}{p q + \\left(1 - p\\right) \\left(1 - q\\right)} + \\frac{\\beta_{l} q \\left(1 - p\\right) \\left(1 - q\\right)}{\\beta_{h} \\left(p q + \\left(1 - p\\right) \\left(1 - q\\right)\\right)} & \\frac{p q^{2}}{p q + \\left(1 - p\\right) \\left(1 - q\\right)} + \\frac{\\beta_{l} \\left(1 - p\\right) \\left(1 - q\\right)^{2}}{\\beta_{h} \\left(p q + \\left(1 - p\\right) \\left(1 - q\\right)\\right)}\\end{smallmatrix}\\right]$"
      ],
      "text/plain": [
       "2×2 Matrix{Sym{PyCall.PyObject}}:\n",
       "       p*(1 - q)^2/(p*(1 - q) + q*(1 - p)) + beta_l*q^2*(1 - p)/(beta_h*(p*(1 - q) + q*(1 - p)))  …  p*q*(1 - q)/(p*(1 - q) + q*(1 - p)) + beta_l*q*(1 - p)*(1 - q)/(beta_h*(p*(1 - q) + q*(1 - p)))\n",
       " p*q*(1 - q)/(p*q + (1 - p)*(1 - q)) + beta_l*q*(1 - p)*(1 - q)/(beta_h*(p*q + (1 - p)*(1 - q)))           p*q^2/(p*q + (1 - p)*(1 - q)) + beta_l*(1 - p)*(1 - q)^2/(beta_h*(p*q + (1 - p)*(1 - q)))"
      ]
     },
     "metadata": {},
     "output_type": "display_data"
    },
    {
     "name": "stdout",
     "output_type": "stream",
     "text": [
      "Gamma matrix:\n"
     ]
    }
   ],
   "source": [
    "#Define Symbols\n",
    "@syms p q beta_l beta_h\n",
    "\n",
    "#Define denominators\n",
    "den1 = q*(1-p) + (1-q)*p # Denominator for Pll, Plh\n",
    "den2 = q*p + (1 - q)*(1 - p) # Denominator for Phl, Phh\n",
    "\n",
    "#Define each term\n",
    "# Pll\n",
    "term1_Pll = (q^2 * (1 - p)) / den1 * (beta_l / beta_h)\n",
    "term2_Pll = (p * (1 - q)^2) / den1\n",
    "Pll =term1_Pll + term2_Pll\n",
    "\n",
    "# Plh\n",
    "term1_Plh = ((1 - q) * p * q) / den1\n",
    "term2_Plh = (q * (1 - q) * (1 - p)) / den1 * (beta_l / beta_h)\n",
    "Plh = term1_Plh + term2_Plh\n",
    "\n",
    "# Phl\n",
    "term1_Phl = (q * p * (1 - q)) / den2\n",
    "term2_Phl = ((1 - q) * (1 - p) * q) / den2 * (beta_l / beta_h)\n",
    "Phl = term1_Phl + term2_Phl\n",
    "\n",
    "# Phh\n",
    "term1_Phh = (p * q^2) / den2\n",
    "term2_Phh = ((1 - p) * (1 - q)^2) / den2 * (beta_l / beta_h)\n",
    "Phh = term1_Phh + term2_Phh\n",
    "\n",
    "# Build the full Γ matrix\n",
    "Gamma = SymPy.Matrix([\n",
    "    [Pll Plh];\n",
    "    [Phl Phh]\n",
    "])\n",
    "\n",
    "# Display the matrix\n",
    "println(\"Gamma matrix:\")\n",
    "display(Gamma)"
   ]
  },
  {
   "cell_type": "code",
   "execution_count": 18,
   "id": "7ec6269a",
   "metadata": {},
   "outputs": [
    {
     "data": {
      "text/latex": [
       "$\\left[\\begin{smallmatrix}\\left(1 - q\\right)^{2} + \\frac{\\beta_{l} q^{2}}{\\beta_{h}} & q \\left(1 - q\\right) + \\frac{\\beta_{l} q \\left(1 - q\\right)}{\\beta_{h}}\\\\q \\left(1 - q\\right) + \\frac{\\beta_{l} q \\left(1 - q\\right)}{\\beta_{h}} & q^{2} + \\frac{\\beta_{l} \\left(1 - q\\right)^{2}}{\\beta_{h}}\\end{smallmatrix}\\right]$"
      ],
      "text/plain": [
       "2×2 Matrix{Sym{PyCall.PyObject}}:\n",
       "       (1 - q)^2 + beta_l*q^2/beta_h  q*(1 - q) + beta_l*q*(1 - q)/beta_h\n",
       " q*(1 - q) + beta_l*q*(1 - q)/beta_h        q^2 + beta_l*(1 - q)^2/beta_h"
      ]
     },
     "metadata": {},
     "output_type": "display_data"
    }
   ],
   "source": [
    "#Set p=0.5\n",
    "Gamma_at_p_half = subs.(Gamma, p => Sym(1)//2)\n",
    "Gamma_at_p_half = simplify(Gamma_at_p_half)\n",
    "display(Gamma_at_p_half)"
   ]
  },
  {
   "cell_type": "code",
   "execution_count": 42,
   "id": "7c754938",
   "metadata": {},
   "outputs": [
    {
     "data": {
      "text/latex": [
       "$\\left[\\begin{smallmatrix}\\frac{\\left(\\beta_{h} + \\beta_{l}\\right) \\left(2 q^{2} - 2 q + 1\\right)}{2 \\beta_{h}} - \\frac{\\sqrt{4 \\beta_{h}^{2} q^{4} - 8 \\beta_{h}^{2} q^{3} + 8 \\beta_{h}^{2} q^{2} - 4 \\beta_{h}^{2} q + \\beta_{h}^{2} + 8 \\beta_{h} \\beta_{l} q^{4} - 16 \\beta_{h} \\beta_{l} q^{3} + 8 \\beta_{h} \\beta_{l} q - 2 \\beta_{h} \\beta_{l} + 4 \\beta_{l}^{2} q^{4} - 8 \\beta_{l}^{2} q^{3} + 8 \\beta_{l}^{2} q^{2} - 4 \\beta_{l}^{2} q + \\beta_{l}^{2}}}{2 \\beta_{h}}\\\\\\frac{\\left(\\beta_{h} + \\beta_{l}\\right) \\left(2 q^{2} - 2 q + 1\\right)}{2 \\beta_{h}} + \\frac{\\sqrt{4 \\beta_{h}^{2} q^{4} - 8 \\beta_{h}^{2} q^{3} + 8 \\beta_{h}^{2} q^{2} - 4 \\beta_{h}^{2} q + \\beta_{h}^{2} + 8 \\beta_{h} \\beta_{l} q^{4} - 16 \\beta_{h} \\beta_{l} q^{3} + 8 \\beta_{h} \\beta_{l} q - 2 \\beta_{h} \\beta_{l} + 4 \\beta_{l}^{2} q^{4} - 8 \\beta_{l}^{2} q^{3} + 8 \\beta_{l}^{2} q^{2} - 4 \\beta_{l}^{2} q + \\beta_{l}^{2}}}{2 \\beta_{h}}\\end{smallmatrix}\\right]$"
      ],
      "text/plain": [
       "2-element Vector{Sym{PyCall.PyObject}}:\n",
       " (beta_h + beta_l)*(2*q^2 - 2*q + 1)/(2*beta_h) - sqrt(4*beta_h^2*q^4 - 8*beta_h^2*q^3 + 8*beta_h^2*q^2 - 4*beta_h^2*q + beta_h^2 + 8*beta_h*beta_l*q^4 - 16*beta_h*beta_l*q^3 + 8*beta_h*beta_l*q - 2*beta_h*beta_l + 4*beta_l^2*q^4 - 8*beta_l^2*q^3 + 8*beta_l^2*q^2 - 4*beta_l^2*q + beta_l^2)/(2*beta_h)\n",
       " (beta_h + beta_l)*(2*q^2 - 2*q + 1)/(2*beta_h) + sqrt(4*beta_h^2*q^4 - 8*beta_h^2*q^3 + 8*beta_h^2*q^2 - 4*beta_h^2*q + beta_h^2 + 8*beta_h*beta_l*q^4 - 16*beta_h*beta_l*q^3 + 8*beta_h*beta_l*q - 2*beta_h*beta_l + 4*beta_l^2*q^4 - 8*beta_l^2*q^3 + 8*beta_l^2*q^2 - 4*beta_l^2*q + beta_l^2)/(2*beta_h)"
      ]
     },
     "metadata": {},
     "output_type": "display_data"
    }
   ],
   "source": [
    "#Comput diagonalization of the matrix\n",
    "eigen_data = eigen(Gamma_at_p_half)\n",
    "\n",
    "A = eigen_data.vectors\n",
    "A = simplify(A)\n",
    "A_values = eigen_data.values\n",
    "A_values = simplify(A_values)"
   ]
  },
  {
   "cell_type": "code",
   "execution_count": 22,
   "id": "2995e472",
   "metadata": {},
   "outputs": [
    {
     "data": {
      "text/latex": [
       "$\\left[\\begin{smallmatrix}0.5 q^{2} + \\left(1 - q\\right)^{2} & 1.5 q \\left(1 - q\\right)\\\\1.5 q \\left(1 - q\\right) & q^{2} + 0.5 \\left(1 - q\\right)^{2}\\end{smallmatrix}\\right]$"
      ],
      "text/plain": [
       "2×2 Matrix{Sym{PyCall.PyObject}}:\n",
       " 0.5*q^2 + (1 - q)^2        1.5*q*(1 - q)\n",
       "       1.5*q*(1 - q)  q^2 + 0.5*(1 - q)^2"
      ]
     },
     "metadata": {},
     "output_type": "display_data"
    }
   ],
   "source": [
    "#Case2: beta_l=0.3 beta_h=0.6\n",
    "# Create a substitution dictionary\n",
    "subs_dict_2 = Dict(\n",
    "    p => Sym(1)//2,\n",
    "    beta_l => 0.3,\n",
    "    beta_h => 0.6\n",
    ")\n",
    "Gamma3 = subs.(Gamma, Ref(subs_dict_2))\n",
    "Gamma3 = simplify(Gamma3)\n",
    "display(Gamma3)"
   ]
  },
  {
   "cell_type": "code",
   "execution_count": null,
   "id": "3ad54b77",
   "metadata": {},
   "outputs": [
    {
     "data": {
      "text/latex": [
       "$\\left[\\begin{smallmatrix}\\frac{3.0 q^{2} - 2.0 q + 1.0}{3.0 q^{2} - 3.0 q} - \\frac{2.0 \\left(1.5 q^{2} - 1.5 q - 2.12132034355964 \\left(0.5 q^{4} - q^{3} + 0.555555555555556 q^{2} - 0.0555555555555556 q + 0.0138888888888889\\right)^{0.5} + 0.75\\right)}{3.0 q^{2} - 3.0 q} & \\frac{3.0 q^{2} - 2.0 q + 1.0}{3.0 q^{2} - 3.0 q} - \\frac{2.0 \\left(1.5 q^{2} - 1.5 q + 2.12132034355964 \\left(0.5 q^{4} - q^{3} + 0.555555555555556 q^{2} - 0.0555555555555556 q + 0.0138888888888889\\right)^{0.5} + 0.75\\right)}{3.0 q^{2} - 3.0 q}\\\\1.0 & 1.0\\end{smallmatrix}\\right]$"
      ],
      "text/plain": [
       "2×2 Matrix{Sym{PyCall.PyObject}}:\n",
       " (3.0*q^2 - 2.0*q + 1.0)/(3.0*q^2 - 3.0*q) - 2.0*(1.5*q^2 - 1.5*q - 2.12132034355964*(0.5*q^4 - q^3 + 0.555555555555556*q^2 - 0.0555555555555556*q + 0.0138888888888889)^0.5 + 0.75)/(3.0*q^2 - 3.0*q)  …  (3.0*q^2 - 2.0*q + 1.0)/(3.0*q^2 - 3.0*q) - 2.0*(1.5*q^2 - 1.5*q + 2.12132034355964*(0.5*q^4 - q^3 + 0.555555555555556*q^2 - 0.0555555555555556*q + 0.0138888888888889)^0.5 + 0.75)/(3.0*q^2 - 3.0*q)\n",
       "                                                                                                                                                                                      1.00000000000000                                                                                                                                                                                          1.00000000000000"
      ]
     },
     "metadata": {},
     "output_type": "display_data"
    }
   ],
   "source": [
    "eigen_data_3 = eigen(Gamma3)\n",
    "A_2 = eigen_data_3.vectors"
   ]
  },
  {
   "cell_type": "code",
   "execution_count": 36,
   "id": "6c166cd0",
   "metadata": {},
   "outputs": [
    {
     "data": {
      "text/latex": [
       "$\\left[\\begin{smallmatrix}1.5 q^{2} - 1.5 q - 2.12132034355964 \\left(0.5 q^{4} - q^{3} + 0.555555555555556 q^{2} - 0.0555555555555556 q + 0.0138888888888889\\right)^{0.5} + 0.75\\\\1.5 q^{2} - 1.5 q + 2.12132034355964 \\left(0.5 q^{4} - q^{3} + 0.555555555555556 q^{2} - 0.0555555555555556 q + 0.0138888888888889\\right)^{0.5} + 0.75\\end{smallmatrix}\\right]$"
      ],
      "text/plain": [
       "2-element Vector{Sym{PyCall.PyObject}}:\n",
       " 1.5*q^2 - 1.5*q - 2.12132034355964*(0.5*q^4 - q^3 + 0.555555555555556*q^2 - 0.0555555555555556*q + 0.0138888888888889)^0.5 + 0.75\n",
       " 1.5*q^2 - 1.5*q + 2.12132034355964*(0.5*q^4 - q^3 + 0.555555555555556*q^2 - 0.0555555555555556*q + 0.0138888888888889)^0.5 + 0.75"
      ]
     },
     "metadata": {},
     "output_type": "display_data"
    }
   ],
   "source": [
    "A_2_values = eigen_data_3.values"
   ]
  },
  {
   "cell_type": "code",
   "execution_count": 27,
   "id": "a98b9776",
   "metadata": {},
   "outputs": [],
   "source": [
    "using SymPy: latex"
   ]
  },
  {
   "cell_type": "code",
   "execution_count": null,
   "id": "fcc43520",
   "metadata": {},
   "outputs": [
    {
     "data": {
      "text/plain": [
       "17"
      ]
     },
     "metadata": {},
     "output_type": "display_data"
    }
   ],
   "source": [
    "function export_matrix_latex(matrix, filename)\n",
    "    open(filename, \"w\") do f\n",
    "        write(f, \"\\\\[\\n\\\\begin{bmatrix}\\n\")\n",
    "        for i in 1:size(matrix,1)\n",
    "            row_entries = [string(matrix[i,j]) for j in 1:size(matrix,2)]\n",
    "            row_latex = join(row_entries, \" & \")\n",
    "            write(f, row_latex * \"\\\\\\\\\\n\")\n",
    "        end\n",
    "        write(f, \"\\\\end{bmatrix}\\n\\\\]\\n\")\n",
    "    end\n",
    "end\n",
    "\n",
    "# Then call it:\n",
    "export_matrix_latex(A_2, \"A_output.tex\")"
   ]
  },
  {
   "cell_type": "code",
   "execution_count": 37,
   "id": "3354fd7e",
   "metadata": {},
   "outputs": [
    {
     "data": {
      "text/plain": [
       "17"
      ]
     },
     "metadata": {},
     "output_type": "display_data"
    }
   ],
   "source": [
    "export_matrix_latex(A_2_values, \"A_2_values_output.tex\")"
   ]
  },
  {
   "cell_type": "code",
   "execution_count": 44,
   "id": "64384d8b",
   "metadata": {},
   "outputs": [
    {
     "data": {
      "text/plain": [
       "17"
      ]
     },
     "metadata": {},
     "output_type": "display_data"
    }
   ],
   "source": [
    "A_2_inverse = inv(A_2)\n",
    "export_matrix_latex(A_2_inverse, \"A_2_inverse_output.tex\")"
   ]
  },
  {
   "cell_type": "code",
   "execution_count": 43,
   "id": "788fb8bb",
   "metadata": {},
   "outputs": [
    {
     "data": {
      "text/plain": [
       "17"
      ]
     },
     "metadata": {},
     "output_type": "display_data"
    }
   ],
   "source": [
    "export_matrix_latex(A, \"A_output.tex\")\n",
    "export_matrix_latex(A_values, \"A_values_output.tex\")"
   ]
  }
 ],
 "metadata": {
  "kernelspec": {
   "display_name": "Julia 1.11.3",
   "language": "julia",
   "name": "julia-1.11"
  },
  "language_info": {
   "file_extension": ".jl",
   "mimetype": "application/julia",
   "name": "julia",
   "version": "1.11.3"
  }
 },
 "nbformat": 4,
 "nbformat_minor": 5
}
