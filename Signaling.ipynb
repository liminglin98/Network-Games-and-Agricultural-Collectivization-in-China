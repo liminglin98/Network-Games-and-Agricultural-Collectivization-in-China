{
 "cells": [
  {
   "cell_type": "code",
   "execution_count": 1,
   "id": "8f4cc1d0",
   "metadata": {},
   "outputs": [],
   "source": [
    "# Loading packages\n",
    "using SymPy, LinearAlgebra, Latexify"
   ]
  },
  {
   "cell_type": "markdown",
   "id": "f8b3185c",
   "metadata": {},
   "source": [
    "# Define the symbolic 16×16 G matrix for default \"Star\" Network"
   ]
  },
  {
   "cell_type": "code",
   "execution_count": 24,
   "id": "18c4e136",
   "metadata": {},
   "outputs": [
    {
     "data": {
      "text/plain": [
       "16×16 Matrix{Int64}:\n",
       " 0  1  1  1  1  0  0  0  0  0  0  0  0  0  0  1\n",
       " 1  0  1  1  1  0  0  0  0  0  0  0  0  0  0  0\n",
       " 1  1  0  1  1  0  0  0  0  0  0  0  0  0  0  0\n",
       " 1  1  1  0  1  0  0  0  0  0  0  0  0  0  0  0\n",
       " 1  1  1  1  0  0  0  0  0  0  0  0  0  0  0  0\n",
       " 0  0  0  0  0  0  1  1  1  1  0  0  0  0  0  0\n",
       " 0  0  0  0  0  1  0  1  1  1  0  0  0  0  0  0\n",
       " 0  0  0  0  0  1  1  0  1  1  0  0  0  0  0  0\n",
       " 0  0  0  0  0  1  1  1  0  1  0  0  0  0  0  1\n",
       " 0  0  0  0  0  1  1  1  1  0  0  0  0  0  0  0\n",
       " 0  0  0  0  0  0  0  0  0  0  0  1  1  1  1  0\n",
       " 0  0  0  0  0  0  0  0  0  0  1  0  1  1  1  1\n",
       " 0  0  0  0  0  0  0  0  0  0  1  1  0  1  1  0\n",
       " 0  0  0  0  0  0  0  0  0  0  1  1  1  0  1  0\n",
       " 0  0  0  0  0  0  0  0  0  0  1  1  1  1  0  0\n",
       " 1  0  0  0  0  0  0  0  1  0  0  1  0  0  0  0"
      ]
     },
     "metadata": {},
     "output_type": "display_data"
    }
   ],
   "source": [
    "\n",
    "G = SymPy.Matrix([\n",
    "    0 1 1 1 1 0 0 0 0 0 0 0 0 0 0 1;\n",
    "    1 0 1 1 1 0 0 0 0 0 0 0 0 0 0 0;\n",
    "    1 1 0 1 1 0 0 0 0 0 0 0 0 0 0 0;\n",
    "    1 1 1 0 1 0 0 0 0 0 0 0 0 0 0 0;\n",
    "    1 1 1 1 0 0 0 0 0 0 0 0 0 0 0 0;\n",
    "    0 0 0 0 0 0 1 1 1 1 0 0 0 0 0 0;\n",
    "    0 0 0 0 0 1 0 1 1 1 0 0 0 0 0 0;\n",
    "    0 0 0 0 0 1 1 0 1 1 0 0 0 0 0 0;\n",
    "    0 0 0 0 0 1 1 1 0 1 0 0 0 0 0 1;\n",
    "    0 0 0 0 0 1 1 1 1 0 0 0 0 0 0 0;\n",
    "    0 0 0 0 0 0 0 0 0 0 0 1 1 1 1 0;\n",
    "    0 0 0 0 0 0 0 0 0 0 1 0 1 1 1 1;\n",
    "    0 0 0 0 0 0 0 0 0 0 1 1 0 1 1 0;\n",
    "    0 0 0 0 0 0 0 0 0 0 1 1 1 0 1 0;\n",
    "    0 0 0 0 0 0 0 0 0 0 1 1 1 1 0 0;\n",
    "    1 0 0 0 0 0 0 0 1 0 0 1 0 0 0 0\n",
    "])"
   ]
  },
  {
   "cell_type": "markdown",
   "id": "b29fb82e",
   "metadata": {},
   "source": [
    "# Generate the Information Matrix $\\Gamma$"
   ]
  },
  {
   "cell_type": "code",
   "execution_count": 25,
   "id": "291b3c68",
   "metadata": {},
   "outputs": [
    {
     "data": {
      "text/latex": [
       "$\\left[\\begin{smallmatrix}\\frac{p \\left(1 - q\\right)^{2}}{p \\left(1 - q\\right) + q \\left(1 - p\\right)} + \\frac{\\beta_{l} q^{2} \\left(1 - p\\right)}{\\beta_{h} \\left(p \\left(1 - q\\right) + q \\left(1 - p\\right)\\right)} & \\frac{p q \\left(1 - q\\right)}{p \\left(1 - q\\right) + q \\left(1 - p\\right)} + \\frac{\\beta_{l} q \\left(1 - p\\right) \\left(1 - q\\right)}{\\beta_{h} \\left(p \\left(1 - q\\right) + q \\left(1 - p\\right)\\right)}\\\\\\frac{p q \\left(1 - q\\right)}{p q + \\left(1 - p\\right) \\left(1 - q\\right)} + \\frac{\\beta_{l} q \\left(1 - p\\right) \\left(1 - q\\right)}{\\beta_{h} \\left(p q + \\left(1 - p\\right) \\left(1 - q\\right)\\right)} & \\frac{p q^{2}}{p q + \\left(1 - p\\right) \\left(1 - q\\right)} + \\frac{\\beta_{l} \\left(1 - p\\right) \\left(1 - q\\right)^{2}}{\\beta_{h} \\left(p q + \\left(1 - p\\right) \\left(1 - q\\right)\\right)}\\end{smallmatrix}\\right]$"
      ],
      "text/plain": [
       "2×2 Matrix{Sym{PyCall.PyObject}}:\n",
       "       p*(1 - q)^2/(p*(1 - q) + q*(1 - p)) + beta_l*q^2*(1 - p)/(beta_h*(p*(1 - q) + q*(1 - p)))  …  p*q*(1 - q)/(p*(1 - q) + q*(1 - p)) + beta_l*q*(1 - p)*(1 - q)/(beta_h*(p*(1 - q) + q*(1 - p)))\n",
       " p*q*(1 - q)/(p*q + (1 - p)*(1 - q)) + beta_l*q*(1 - p)*(1 - q)/(beta_h*(p*q + (1 - p)*(1 - q)))           p*q^2/(p*q + (1 - p)*(1 - q)) + beta_l*(1 - p)*(1 - q)^2/(beta_h*(p*q + (1 - p)*(1 - q)))"
      ]
     },
     "metadata": {},
     "output_type": "display_data"
    },
    {
     "name": "stdout",
     "output_type": "stream",
     "text": [
      "Gamma matrix:\n"
     ]
    }
   ],
   "source": [
    "#Define Symbols\n",
    "@syms p q beta_l beta_h\n",
    "\n",
    "#Define denominators\n",
    "den1 = q*(1-p) + (1-q)*p # Denominator for Pll, Plh\n",
    "den2 = q*p + (1 - q)*(1 - p) # Denominator for Phl, Phh\n",
    "\n",
    "#Define each term\n",
    "# Pll\n",
    "term1_Pll = (q^2 * (1 - p)) / den1 * (beta_l / beta_h)\n",
    "term2_Pll = (p * (1 - q)^2) / den1\n",
    "Pll =term1_Pll + term2_Pll\n",
    "\n",
    "# Plh\n",
    "term1_Plh = ((1 - q) * p * q) / den1\n",
    "term2_Plh = (q * (1 - q) * (1 - p)) / den1 * (beta_l / beta_h)\n",
    "Plh = term1_Plh + term2_Plh\n",
    "\n",
    "# Phl\n",
    "term1_Phl = (q * p * (1 - q)) / den2\n",
    "term2_Phl = ((1 - q) * (1 - p) * q) / den2 * (beta_l / beta_h)\n",
    "Phl = term1_Phl + term2_Phl\n",
    "\n",
    "# Phh\n",
    "term1_Phh = (p * q^2) / den2\n",
    "term2_Phh = ((1 - p) * (1 - q)^2) / den2 * (beta_l / beta_h)\n",
    "Phh = term1_Phh + term2_Phh\n",
    "\n",
    "# Build the full Γ matrix\n",
    "Gamma = SymPy.Matrix([\n",
    "    [Pll Plh];\n",
    "    [Phl Phh]\n",
    "])\n",
    "\n",
    "# Display the matrix\n",
    "println(\"Gamma matrix:\")\n",
    "display(Gamma)"
   ]
  },
  {
   "cell_type": "markdown",
   "id": "353bb2a9",
   "metadata": {},
   "source": [
    "## Original $\\Gamma$ with $p=1/2$"
   ]
  },
  {
   "cell_type": "code",
   "execution_count": 26,
   "id": "7ec6269a",
   "metadata": {},
   "outputs": [
    {
     "data": {
      "text/latex": [
       "$\\left[\\begin{smallmatrix}\\left(1 - q\\right)^{2} + \\frac{\\beta_{l} q^{2}}{\\beta_{h}} & q \\left(1 - q\\right) + \\frac{\\beta_{l} q \\left(1 - q\\right)}{\\beta_{h}}\\\\q \\left(1 - q\\right) + \\frac{\\beta_{l} q \\left(1 - q\\right)}{\\beta_{h}} & q^{2} + \\frac{\\beta_{l} \\left(1 - q\\right)^{2}}{\\beta_{h}}\\end{smallmatrix}\\right]$"
      ],
      "text/plain": [
       "2×2 Matrix{Sym{PyCall.PyObject}}:\n",
       "       (1 - q)^2 + beta_l*q^2/beta_h  q*(1 - q) + beta_l*q*(1 - q)/beta_h\n",
       " q*(1 - q) + beta_l*q*(1 - q)/beta_h        q^2 + beta_l*(1 - q)^2/beta_h"
      ]
     },
     "metadata": {},
     "output_type": "display_data"
    }
   ],
   "source": [
    "\n",
    "Gamma_at_p_half = subs.(Gamma, p => Sym(1)//2)\n",
    "Gamma_at_p_half = simplify(Gamma_at_p_half)\n",
    "display(Gamma_at_p_half)"
   ]
  },
  {
   "cell_type": "markdown",
   "id": "aecc946c",
   "metadata": {},
   "source": [
    "### Diagonalization of $\\Gamma$ with $p=1/2$"
   ]
  },
  {
   "cell_type": "code",
   "execution_count": 27,
   "id": "7c754938",
   "metadata": {},
   "outputs": [
    {
     "data": {
      "text/latex": [
       "$\\left[\\begin{smallmatrix}\\frac{\\left(\\beta_{h} + \\beta_{l}\\right) \\left(2 q^{2} - 2 q + 1\\right)}{2 \\beta_{h}} - \\frac{\\sqrt{4 \\beta_{h}^{2} q^{4} - 8 \\beta_{h}^{2} q^{3} + 8 \\beta_{h}^{2} q^{2} - 4 \\beta_{h}^{2} q + \\beta_{h}^{2} + 8 \\beta_{h} \\beta_{l} q^{4} - 16 \\beta_{h} \\beta_{l} q^{3} + 8 \\beta_{h} \\beta_{l} q - 2 \\beta_{h} \\beta_{l} + 4 \\beta_{l}^{2} q^{4} - 8 \\beta_{l}^{2} q^{3} + 8 \\beta_{l}^{2} q^{2} - 4 \\beta_{l}^{2} q + \\beta_{l}^{2}}}{2 \\beta_{h}}\\\\\\frac{\\left(\\beta_{h} + \\beta_{l}\\right) \\left(2 q^{2} - 2 q + 1\\right)}{2 \\beta_{h}} + \\frac{\\sqrt{4 \\beta_{h}^{2} q^{4} - 8 \\beta_{h}^{2} q^{3} + 8 \\beta_{h}^{2} q^{2} - 4 \\beta_{h}^{2} q + \\beta_{h}^{2} + 8 \\beta_{h} \\beta_{l} q^{4} - 16 \\beta_{h} \\beta_{l} q^{3} + 8 \\beta_{h} \\beta_{l} q - 2 \\beta_{h} \\beta_{l} + 4 \\beta_{l}^{2} q^{4} - 8 \\beta_{l}^{2} q^{3} + 8 \\beta_{l}^{2} q^{2} - 4 \\beta_{l}^{2} q + \\beta_{l}^{2}}}{2 \\beta_{h}}\\end{smallmatrix}\\right]$"
      ],
      "text/plain": [
       "2-element Vector{Sym{PyCall.PyObject}}:\n",
       " (beta_h + beta_l)*(2*q^2 - 2*q + 1)/(2*beta_h) - sqrt(4*beta_h^2*q^4 - 8*beta_h^2*q^3 + 8*beta_h^2*q^2 - 4*beta_h^2*q + beta_h^2 + 8*beta_h*beta_l*q^4 - 16*beta_h*beta_l*q^3 + 8*beta_h*beta_l*q - 2*beta_h*beta_l + 4*beta_l^2*q^4 - 8*beta_l^2*q^3 + 8*beta_l^2*q^2 - 4*beta_l^2*q + beta_l^2)/(2*beta_h)\n",
       " (beta_h + beta_l)*(2*q^2 - 2*q + 1)/(2*beta_h) + sqrt(4*beta_h^2*q^4 - 8*beta_h^2*q^3 + 8*beta_h^2*q^2 - 4*beta_h^2*q + beta_h^2 + 8*beta_h*beta_l*q^4 - 16*beta_h*beta_l*q^3 + 8*beta_h*beta_l*q - 2*beta_h*beta_l + 4*beta_l^2*q^4 - 8*beta_l^2*q^3 + 8*beta_l^2*q^2 - 4*beta_l^2*q + beta_l^2)/(2*beta_h)"
      ]
     },
     "metadata": {},
     "output_type": "display_data"
    }
   ],
   "source": [
    "#Comput diagonalization of the matrix\n",
    "eigen_data = eigen(Gamma_at_p_half)\n",
    "\n",
    "A = eigen_data.vectors\n",
    "A = simplify(A)\n",
    "A_values = eigen_data.values\n",
    "A_values = simplify(A_values)"
   ]
  },
  {
   "cell_type": "markdown",
   "id": "044fb791",
   "metadata": {},
   "source": [
    "## Original $\\Gamma$ with $p=1/2, \\beta_l=0.03, \\beta_h=0.06$"
   ]
  },
  {
   "cell_type": "code",
   "execution_count": 28,
   "id": "2995e472",
   "metadata": {},
   "outputs": [
    {
     "data": {
      "text/latex": [
       "$\\left[\\begin{smallmatrix}0.5 q^{2} + \\left(1 - q\\right)^{2} & 1.5 q \\left(1 - q\\right)\\\\1.5 q \\left(1 - q\\right) & q^{2} + 0.5 \\left(1 - q\\right)^{2}\\end{smallmatrix}\\right]$"
      ],
      "text/plain": [
       "2×2 Matrix{Sym{PyCall.PyObject}}:\n",
       " 0.5*q^2 + (1 - q)^2        1.5*q*(1 - q)\n",
       "       1.5*q*(1 - q)  q^2 + 0.5*(1 - q)^2"
      ]
     },
     "metadata": {},
     "output_type": "display_data"
    }
   ],
   "source": [
    "# Create a substitution dictionary\n",
    "subs_dict_2 = Dict(\n",
    "    p => Sym(1)//2,\n",
    "    beta_l => 0.03,\n",
    "    beta_h => 0.06\n",
    ")\n",
    "Gamma3 = subs.(Gamma, Ref(subs_dict_2))\n",
    "Gamma3 = simplify(Gamma3)\n",
    "display(Gamma3)"
   ]
  },
  {
   "cell_type": "markdown",
   "id": "55e71a8b",
   "metadata": {},
   "source": [
    "### Eigenvectors and its Inverse"
   ]
  },
  {
   "cell_type": "code",
   "execution_count": 29,
   "id": "3ad54b77",
   "metadata": {},
   "outputs": [
    {
     "data": {
      "text/latex": [
       "$\\frac{1.0 \\left(0.117851130197758 q + 0.5 \\left(0.5 q^{4} - q^{3} + 0.555555555555556 q^{2} - 0.0555555555555556 q + 0.0138888888888889\\right)^{0.5} - 0.058925565098879\\right)}{\\left(0.5 q^{4} - q^{3} + 0.555555555555556 q^{2} - 0.0555555555555556 q + 0.0138888888888889\\right)^{0.5}}$"
      ],
      "text/plain": [
       "    /                                                                          >\n",
       "    |                          /     4    3                      2             >\n",
       "1.0*\\0.117851130197758*q + 0.5*\\0.5*q  - q  + 0.555555555555556*q  - 0.0555555 >\n",
       "\n",
       ">                                  0.5                    \\                    >\n",
       ">                                 \\                       | /     4    3       >\n",
       "> 555555556*q + 0.0138888888888889/    - 0.058925565098879/*\\0.5*q  - q  + 0.5 >\n",
       "\n",
       ">                                                               -0.5\n",
       ">                 2                                            \\    \n",
       "> 55555555555556*q  - 0.0555555555555556*q + 0.0138888888888889/    "
      ]
     },
     "metadata": {},
     "output_type": "display_data"
    }
   ],
   "source": [
    "eigen_data_3 = eigen(Gamma3)\n",
    "A_1_vectors = eigen_data_3.vectors\n",
    "a_11_gen = A_1_vectors[1, 1]\n",
    "a_12_gen = A_1_vectors[1, 2]\n",
    "a_21_gen = A_1_vectors[2, 1]\n",
    "a_22_gen = A_1_vectors[2, 2]\n",
    "A_1_vectors_inv = inv(A_1_vectors)\n",
    "a_11_gen_inv = A_1_vectors_inv[1, 1]\n",
    "a_12_gen_inv = A_1_vectors_inv[1, 2]\n",
    "a_21_gen_inv = A_1_vectors_inv[2, 1]\n",
    "a_22_gen_inv = A_1_vectors_inv[2, 2]"
   ]
  },
  {
   "cell_type": "code",
   "execution_count": 30,
   "id": "cbf949ad",
   "metadata": {},
   "outputs": [
    {
     "name": "stdout",
     "output_type": "stream",
     "text": [
      "Sym{PyCall.PyObject}[(3.0*q^2 - 2.0*q + 1.0)/(3.0*q^2 - 3.0*q) - 2.0*(1.5*q^2 - 1.5*q - 2.12132034355964*(0.5*q^4 - q^3 + 0.555555555555556*q^2 - 0.0555555555555556*q + 0.0138888888888889)^0.5 + 0.75)/(3.0*q^2 - 3.0*q) (3.0*q^2 - 2.0*q + 1.0)/(3.0*q^2 - 3.0*q) - 2.0*(1.5*q^2 - 1.5*q + 2.12132034355964*(0.5*q^4 - q^3 + 0.555555555555556*q^2 - 0.0555555555555556*q + 0.0138888888888889)^0.5 + 0.75)/(3.0*q^2 - 3.0*q); 1.00000000000000 1.00000000000000]\n"
     ]
    }
   ],
   "source": [
    "println(A_1_vectors)"
   ]
  },
  {
   "cell_type": "markdown",
   "id": "3aeed5c2",
   "metadata": {},
   "source": [
    "### Eigenvalues"
   ]
  },
  {
   "cell_type": "code",
   "execution_count": 31,
   "id": "6c166cd0",
   "metadata": {},
   "outputs": [
    {
     "data": {
      "text/latex": [
       "$\\left[\\begin{smallmatrix}1.5 q^{2} - 1.5 q - 2.12132034355964 \\left(0.5 q^{4} - q^{3} + 0.555555555555556 q^{2} - 0.0555555555555556 q + 0.0138888888888889\\right)^{0.5} + 0.75\\\\1.5 q^{2} - 1.5 q + 2.12132034355964 \\left(0.5 q^{4} - q^{3} + 0.555555555555556 q^{2} - 0.0555555555555556 q + 0.0138888888888889\\right)^{0.5} + 0.75\\end{smallmatrix}\\right]$"
      ],
      "text/plain": [
       "2-element Vector{Sym{PyCall.PyObject}}:\n",
       " 1.5*q^2 - 1.5*q - 2.12132034355964*(0.5*q^4 - q^3 + 0.555555555555556*q^2 - 0.0555555555555556*q + 0.0138888888888889)^0.5 + 0.75\n",
       " 1.5*q^2 - 1.5*q + 2.12132034355964*(0.5*q^4 - q^3 + 0.555555555555556*q^2 - 0.0555555555555556*q + 0.0138888888888889)^0.5 + 0.75"
      ]
     },
     "metadata": {},
     "output_type": "display_data"
    }
   ],
   "source": [
    "A_1_values = eigen_data_3.values"
   ]
  },
  {
   "cell_type": "markdown",
   "id": "621946a9",
   "metadata": {},
   "source": [
    "#### Retrieve each terms in eigenvalues"
   ]
  },
  {
   "cell_type": "code",
   "execution_count": 32,
   "id": "9c43ccfe",
   "metadata": {},
   "outputs": [
    {
     "name": "stdout",
     "output_type": "stream",
     "text": [
      "lambda_1_gen: 1.5*q^2 - 1.5*q - 2.12132034355964*(0.5*q^4 - q^3 + 0.555555555555556*q^2 - 0.0555555555555556*q + 0.0138888888888889)^0.5 + 0.75\n",
      "lambda_2_gen: 1.5*q^2 - 1.5*q + 2.12132034355964*(0.5*q^4 - q^3 + 0.555555555555556*q^2 - 0.0555555555555556*q + 0.0138888888888889)^0.5 + 0.75\n"
     ]
    }
   ],
   "source": [
    "# retrieve each element of eigenvalues\n",
    "lambda_1_gen = A_1_values[1]\n",
    "println(\"lambda_1_gen: \", lambda_1_gen)\n",
    "lambda_2_gen = A_1_values[2]\n",
    "println(\"lambda_2_gen: \", lambda_2_gen)\n",
    "\n",
    "\n"
   ]
  },
  {
   "cell_type": "markdown",
   "id": "83e0bc43",
   "metadata": {},
   "source": [
    "### Check if b is increasing in q (temporarily disabled)"
   ]
  },
  {
   "cell_type": "code",
   "execution_count": 15,
   "id": "34d5bffa",
   "metadata": {},
   "outputs": [],
   "source": [
    "# Calculate b = (I - lambda * beta_h * G)^(-1)\n",
    "#n=16\n",
    "#beta_h = 0.2\n",
    "#beta_l = 0.1\n",
    "#I = SymPy.Matrix(LinearAlgebra.I, n, n)\n",
    "# Define symbolic variable\n",
    "#q = symbols(\"q\", real=true)\n",
    "\n",
    "# Copy the expression for lambda from the eigenvalues A_2 values\n",
    "#lambda_1_gen_expr = 1.5*q^2 - 1.5*q - 2.12132034355964*(0.5*q^4 - q^3 + 0.555555555555556*q^2 - 0.0555555555555556*q + 0.0138888888888889)^0.5 + 0.75\n",
    "#lambda_2_gen_expr = 1.5*q^2 - 1.5*q + 2.12132034355964*(0.5*q^4 - q^3 + 0.555555555555556*q^2 - 0.0555555555555556*q + 0.0138888888888889)^0.5 + 0.75\n",
    "# Now loop over q values\n",
    "#for test_q in [0.1,0.3, 0.5, 0.7, 0.9]\n",
    "    \n",
    "    # Substitute q into lambda_expr\n",
    "    #λ_val_1 = SymPy.subs(lambda_1_gen_expr, q => test_q)\n",
    "    #λ_val_2 = SymPy.subs(lambda_2_gen_expr, q => test_q)\n",
    "    # Build A matrix\n",
    "    #Total_l_star= a_11_gen * a_11_gen_inv * inv(I - λ_val_1 * E_beta_complete * G)* SymPy.ones(16, 1) + a_12 * a_21_inv * inv(I - lambda_2 * E_beta_complete * G)* SymPy.ones(16, 1) + a_11 * a_12_inv * inv(I - lambda_1 * E_beta_complete * G)* SymPy.ones(16, 1) + a_12 * a_22_inv * inv(I - lambda_2 * E_beta_complete * G) * SymPy.ones(16, 1)\n",
    "    #x_star_groupleader = x_star[1]\n",
    "    #x_star_members = x_star[2]\n",
    "    #x_star_higherleader = x_star[16]\n",
    "\n",
    "    #println(\"At q= $test_q, x_star_groupleader = $x_star_groupleader, x_star_members = $x_star_members, x_star_higherleader = $x_star_higherleader\")\n",
    "#end"
   ]
  },
  {
   "cell_type": "markdown",
   "id": "e773fad2",
   "metadata": {},
   "source": [
    "## Original $\\Gamma$ with $p=1/2,q=3/5,\\beta_l=0.03,\\beta_h=0.6$"
   ]
  },
  {
   "cell_type": "code",
   "execution_count": 33,
   "id": "174ef7d4",
   "metadata": {},
   "outputs": [
    {
     "data": {
      "text/latex": [
       "$\\left[\\begin{smallmatrix}0.34 & 0.36\\\\0.36 & 0.44\\end{smallmatrix}\\right]$"
      ],
      "text/plain": [
       "2×2 Matrix{Sym{PyCall.PyObject}}:\n",
       " 0.340000000000000  0.360000000000000\n",
       " 0.360000000000000  0.440000000000000"
      ]
     },
     "metadata": {},
     "output_type": "display_data"
    }
   ],
   "source": [
    "# now we set q = 3/5 back to the original code\n",
    "subs_dict_3 = Dict(\n",
    "    q => Sym(3)//5,\n",
    "    p => Sym(1)//2,\n",
    "    beta_l => 0.03,\n",
    "    beta_h => 0.06\n",
    ")\n",
    "Gamma4 = subs.(Gamma, Ref(subs_dict_3))\n",
    "display(Gamma4)"
   ]
  },
  {
   "cell_type": "markdown",
   "id": "a04a4905",
   "metadata": {},
   "source": [
    "### Eigenvectors and Eigenvalues"
   ]
  },
  {
   "cell_type": "code",
   "execution_count": 34,
   "id": "a18cd768",
   "metadata": {},
   "outputs": [
    {
     "data": {
      "text/latex": [
       "$\\left[\\begin{smallmatrix}0.754177820966212 & 0.656670247812901\\\\-0.656670247812901 & 0.754177820966212\\end{smallmatrix}\\right]$"
      ],
      "text/plain": [
       "1×2 Matrix{Sym{PyCall.PyObject}}:\n",
       " Matrix([\n",
       "[ 0.754177820966212],\n",
       "[-0.656670247812901]])  …  Matrix([\n",
       "[0.656670247812901],\n",
       "[0.754177820966212]])"
      ]
     },
     "metadata": {},
     "output_type": "display_data"
    },
    {
     "data": {
      "text/latex": [
       "$\\left[\\begin{smallmatrix}0.026544363092275\\\\0.753455636907725\\end{smallmatrix}\\right]$"
      ],
      "text/plain": [
       "2-element Vector{Sym{PyCall.PyObject}}:\n",
       " 0.0265443630922750\n",
       "  0.753455636907725"
      ]
     },
     "metadata": {},
     "output_type": "display_data"
    }
   ],
   "source": [
    "eigen_Gamma4 = eigen(Gamma4)\n",
    "A_4_vectors = eigen_Gamma4.vectors\n",
    "display(A_4_vectors)\n",
    "A_4_values = eigen_Gamma4.values\n",
    "display(A_4_values)"
   ]
  },
  {
   "cell_type": "markdown",
   "id": "54dd506d",
   "metadata": {},
   "source": [
    "#### Retrieve elemets"
   ]
  },
  {
   "cell_type": "code",
   "execution_count": 35,
   "id": "daa08188",
   "metadata": {},
   "outputs": [
    {
     "name": "stdout",
     "output_type": "stream",
     "text": [
      "0.754177820966212\n",
      "-0.656670247812901\n"
     ]
    }
   ],
   "source": [
    "a_1=A_4_vectors[1,1]\n",
    "if isa(a_1, Sym)\n",
    "    a_1_list = a_1.tolist()   \n",
    "    a_1_matrix = SymPy.Matrix(a_1_list) \n",
    "else\n",
    "    a_1_matrix = a_1 \n",
    "end\n",
    "\n",
    "a_11 = a_1_matrix[1,1]\n",
    "a_21 = a_1_matrix[2,1]\n",
    "\n",
    "println(a_11)\n",
    "println(a_21)\n"
   ]
  },
  {
   "cell_type": "code",
   "execution_count": 36,
   "id": "74156f76",
   "metadata": {},
   "outputs": [
    {
     "name": "stdout",
     "output_type": "stream",
     "text": [
      "0.656670247812901\n",
      "0.754177820966212\n"
     ]
    }
   ],
   "source": [
    "a_2=A_4_vectors[1,2]\n",
    "if isa(a_2, Sym)\n",
    "    a_2_list = a_2.tolist()   # Convert to Julia Array\n",
    "    a_2_matrix = SymPy.Matrix(a_2_list)  # Rebuild clean Matrix\n",
    "else\n",
    "    a_2_matrix = a_2  # Already clean\n",
    "end\n",
    "\n",
    "# Step 3: Access entries\n",
    "a_12 = a_2_matrix[1,1]\n",
    "a_22 = a_2_matrix[2,1]\n",
    "\n",
    "println(a_12)\n",
    "println(a_22)\n"
   ]
  },
  {
   "cell_type": "code",
   "execution_count": 37,
   "id": "e8e51f08",
   "metadata": {},
   "outputs": [
    {
     "name": "stdout",
     "output_type": "stream",
     "text": [
      "0.754177820966212\n",
      "-0.656670247812901\n",
      "0.656670247812901\n",
      "0.754177820966212\n"
     ]
    }
   ],
   "source": [
    "A_4_vectors=SymPy.Matrix([\n",
    "    a_11  a_12;\n",
    "    a_21  a_22\n",
    "])\n",
    "A_4_vectors_inv = inv(A_4_vectors)\n",
    "a_11_inv = A_4_vectors_inv[1,1]\n",
    "a_12_inv = A_4_vectors_inv[1,2]\n",
    "a_21_inv = A_4_vectors_inv[2,1]\n",
    "a_22_inv = A_4_vectors_inv[2,2]\n",
    "println(a_11_inv)\n",
    "println(a_12_inv)\n",
    "println(a_21_inv)\n",
    "println(a_22_inv)"
   ]
  },
  {
   "cell_type": "markdown",
   "id": "5119e198",
   "metadata": {},
   "source": [
    "### Calculate $b(\\lambda_i(\\Gamma),\\beta_{max},G)$"
   ]
  },
  {
   "cell_type": "markdown",
   "id": "3451e8c8",
   "metadata": {},
   "source": [
    "#### Retrieve $\\lambda$"
   ]
  },
  {
   "cell_type": "code",
   "execution_count": 38,
   "id": "a2770ed5",
   "metadata": {},
   "outputs": [
    {
     "name": "stdout",
     "output_type": "stream",
     "text": [
      "0.0265443630922750\n",
      "0.753455636907725\n"
     ]
    }
   ],
   "source": [
    "lambda_1 = A_4_values[1]\n",
    "lambda_2 = A_4_values[2]\n",
    "println(lambda_1)\n",
    "println(lambda_2)"
   ]
  },
  {
   "cell_type": "markdown",
   "id": "2db8ec0a",
   "metadata": {},
   "source": [
    "#### Generate G matrix for the Complete Network "
   ]
  },
  {
   "cell_type": "code",
   "execution_count": 39,
   "id": "ecb71bf8",
   "metadata": {},
   "outputs": [
    {
     "data": {
      "text/latex": [
       "$\\left[\\begin{smallmatrix}0 & 1 & 1 & 1 & 1 & 1 & 1 & 1 & 1 & 1 & 1 & 1 & 1 & 1 & 1 & 1\\\\1 & 0 & 1 & 1 & 1 & 1 & 1 & 1 & 1 & 1 & 1 & 1 & 1 & 1 & 1 & 1\\\\1 & 1 & 0 & 1 & 1 & 1 & 1 & 1 & 1 & 1 & 1 & 1 & 1 & 1 & 1 & 1\\\\1 & 1 & 1 & 0 & 1 & 1 & 1 & 1 & 1 & 1 & 1 & 1 & 1 & 1 & 1 & 1\\\\1 & 1 & 1 & 1 & 0 & 1 & 1 & 1 & 1 & 1 & 1 & 1 & 1 & 1 & 1 & 1\\\\1 & 1 & 1 & 1 & 1 & 0 & 1 & 1 & 1 & 1 & 1 & 1 & 1 & 1 & 1 & 1\\\\1 & 1 & 1 & 1 & 1 & 1 & 0 & 1 & 1 & 1 & 1 & 1 & 1 & 1 & 1 & 1\\\\1 & 1 & 1 & 1 & 1 & 1 & 1 & 0 & 1 & 1 & 1 & 1 & 1 & 1 & 1 & 1\\\\1 & 1 & 1 & 1 & 1 & 1 & 1 & 1 & 0 & 1 & 1 & 1 & 1 & 1 & 1 & 1\\\\1 & 1 & 1 & 1 & 1 & 1 & 1 & 1 & 1 & 0 & 1 & 1 & 1 & 1 & 1 & 1\\\\1 & 1 & 1 & 1 & 1 & 1 & 1 & 1 & 1 & 1 & 0 & 1 & 1 & 1 & 1 & 1\\\\1 & 1 & 1 & 1 & 1 & 1 & 1 & 1 & 1 & 1 & 1 & 0 & 1 & 1 & 1 & 1\\\\1 & 1 & 1 & 1 & 1 & 1 & 1 & 1 & 1 & 1 & 1 & 1 & 0 & 1 & 1 & 1\\\\1 & 1 & 1 & 1 & 1 & 1 & 1 & 1 & 1 & 1 & 1 & 1 & 1 & 0 & 1 & 1\\\\1 & 1 & 1 & 1 & 1 & 1 & 1 & 1 & 1 & 1 & 1 & 1 & 1 & 1 & 0 & 1\\\\1 & 1 & 1 & 1 & 1 & 1 & 1 & 1 & 1 & 1 & 1 & 1 & 1 & 1 & 1 & 0\\end{smallmatrix}\\right]$"
      ],
      "text/plain": [
       "16×16 Matrix{Sym{PyCall.PyObject}}:\n",
       " 0  1  1  1  1  1  1  1  1  1  1  1  1  1  1  1\n",
       " 1  0  1  1  1  1  1  1  1  1  1  1  1  1  1  1\n",
       " 1  1  0  1  1  1  1  1  1  1  1  1  1  1  1  1\n",
       " 1  1  1  0  1  1  1  1  1  1  1  1  1  1  1  1\n",
       " 1  1  1  1  0  1  1  1  1  1  1  1  1  1  1  1\n",
       " 1  1  1  1  1  0  1  1  1  1  1  1  1  1  1  1\n",
       " 1  1  1  1  1  1  0  1  1  1  1  1  1  1  1  1\n",
       " 1  1  1  1  1  1  1  0  1  1  1  1  1  1  1  1\n",
       " 1  1  1  1  1  1  1  1  0  1  1  1  1  1  1  1\n",
       " 1  1  1  1  1  1  1  1  1  0  1  1  1  1  1  1\n",
       " 1  1  1  1  1  1  1  1  1  1  0  1  1  1  1  1\n",
       " 1  1  1  1  1  1  1  1  1  1  1  0  1  1  1  1\n",
       " 1  1  1  1  1  1  1  1  1  1  1  1  0  1  1  1\n",
       " 1  1  1  1  1  1  1  1  1  1  1  1  1  0  1  1\n",
       " 1  1  1  1  1  1  1  1  1  1  1  1  1  1  0  1\n",
       " 1  1  1  1  1  1  1  1  1  1  1  1  1  1  1  0"
      ]
     },
     "metadata": {},
     "output_type": "display_data"
    }
   ],
   "source": [
    "G_array = [i != j ? Sym(1) : Sym(0) for i in 1:16, j in 1:16]\n",
    "G_complete = SymPy.Matrix(G_array)"
   ]
  },
  {
   "cell_type": "markdown",
   "id": "c0785915",
   "metadata": {},
   "source": [
    "#### Find $E[\\beta]\\leq 1/\\lambda_{max}$"
   ]
  },
  {
   "cell_type": "code",
   "execution_count": 40,
   "id": "01a2d850",
   "metadata": {},
   "outputs": [
    {
     "data": {
      "text/latex": [
       "$\\frac{1}{15}$"
      ],
      "text/plain": [
       "1/15"
      ]
     },
     "metadata": {},
     "output_type": "display_data"
    }
   ],
   "source": [
    "G_complete_eign = eigen(G_complete)\n",
    "G_complete_eigenvalues = G_complete_eign.values\n",
    "# Retrieve the max eigenvalue\n",
    "max_eigenvalue = maximum(G_complete_eigenvalues)\n",
    "E_beta_complete = 1/max_eigenvalue"
   ]
  },
  {
   "cell_type": "markdown",
   "id": "c0431ec4",
   "metadata": {},
   "source": [
    "## x_star for l for default network"
   ]
  },
  {
   "cell_type": "code",
   "execution_count": 61,
   "id": "6ab19b92",
   "metadata": {},
   "outputs": [
    {
     "data": {
      "text/latex": [
       "$\\left[\\begin{smallmatrix}1.29001581741974\\\\1.23681169522142\\\\1.23681169522142\\\\1.23681169522142\\\\1.23681169522142\\\\1.23681169522142\\\\1.23681169522142\\\\1.23681169522142\\\\1.29001581741974\\\\1.23681169522142\\\\1.23681169522142\\\\1.29001581741974\\\\1.23681169522142\\\\1.23681169522142\\\\1.23681169522142\\\\1.1836075730231\\end{smallmatrix}\\right]$"
      ],
      "text/plain": [
       "16×1 Matrix{Sym{PyCall.PyObject}}:\n",
       " 1.29001581741974\n",
       " 1.23681169522142\n",
       " 1.23681169522142\n",
       " 1.23681169522142\n",
       " 1.23681169522142\n",
       " 1.23681169522142\n",
       " 1.23681169522142\n",
       " 1.23681169522142\n",
       " 1.29001581741974\n",
       " 1.23681169522142\n",
       " 1.23681169522142\n",
       " 1.29001581741974\n",
       " 1.23681169522142\n",
       " 1.23681169522142\n",
       " 1.23681169522142\n",
       " 1.18360757302310"
      ]
     },
     "metadata": {},
     "output_type": "display_data"
    }
   ],
   "source": [
    "Total_l_star= a_11 * a_11_inv * inv(I - lambda_1 * E_beta_complete * G)* SymPy.ones(16, 1) + a_12 * a_21_inv * inv(I - lambda_2 * E_beta_complete * G)* SymPy.ones(16, 1) + a_11 * a_12_inv * inv(I - lambda_1 * E_beta_complete * G)* SymPy.ones(16, 1) + a_12 * a_22_inv * inv(I - lambda_2 * E_beta_complete * G) * SymPy.ones(16, 1)"
   ]
  },
  {
   "cell_type": "markdown",
   "id": "a3382954",
   "metadata": {},
   "source": [
    "## x_star for h for default network"
   ]
  },
  {
   "cell_type": "code",
   "execution_count": 74,
   "id": "a3ec6ea2",
   "metadata": {},
   "outputs": [
    {
     "data": {
      "text/latex": [
       "$\\left[\\begin{smallmatrix}1.33175690886891\\\\1.2709163278518\\\\1.2709163278518\\\\1.2709163278518\\\\1.2709163278518\\\\1.2709163278518\\\\1.2709163278518\\\\1.2709163278518\\\\1.33175690886891\\\\1.2709163278518\\\\1.2709163278518\\\\1.33175690886891\\\\1.2709163278518\\\\1.2709163278518\\\\1.2709163278518\\\\1.21007574683468\\end{smallmatrix}\\right]$"
      ],
      "text/plain": [
       "16×1 Matrix{Sym{PyCall.PyObject}}:\n",
       " 1.33175690886891\n",
       " 1.27091632785180\n",
       " 1.27091632785180\n",
       " 1.27091632785180\n",
       " 1.27091632785180\n",
       " 1.27091632785180\n",
       " 1.27091632785180\n",
       " 1.27091632785180\n",
       " 1.33175690886891\n",
       " 1.27091632785180\n",
       " 1.27091632785180\n",
       " 1.33175690886891\n",
       " 1.27091632785180\n",
       " 1.27091632785180\n",
       " 1.27091632785180\n",
       " 1.21007574683468"
      ]
     },
     "metadata": {},
     "output_type": "display_data"
    }
   ],
   "source": [
    "Total_h_star= a_21 * a_11_inv * inv(I - lambda_1 * E_beta_complete * G)* SymPy.ones(16, 1) + a_22 * a_21_inv * inv(I - lambda_2 * E_beta_complete * G)* SymPy.ones(16, 1) + a_21 * a_12_inv * inv(I - lambda_1 * E_beta_complete * G)* SymPy.ones(16, 1) + a_22 * a_22_inv * inv(I - lambda_2 * E_beta_complete * G) * SymPy.ones(16, 1)"
   ]
  },
  {
   "cell_type": "markdown",
   "id": "c7588db4",
   "metadata": {},
   "source": [
    "### Summary of Coefficient"
   ]
  },
  {
   "cell_type": "code",
   "execution_count": 77,
   "id": "37e94566",
   "metadata": {},
   "outputs": [
    {
     "name": "stdout",
     "output_type": "stream",
     "text": [
      "Total Welfare in default network\n",
      "| Type | Group Leader | Member | Higher Leader |\n",
      "|-----|--------------|--------|---------------|\n",
      "| l   | 1.29001581741974 | 1.23681169522142 | 1.18360757302310 |\n",
      "| h   | 1.33175690886891 | 1.27091632785180 | 1.21007574683468 |\n"
     ]
    }
   ],
   "source": [
    "println(\"Total Welfare in default network\")\n",
    "println(\"| Type | Group Leader | Member | Higher Leader |\")\n",
    "println(\"|-----|--------------|--------|---------------|\")\n",
    "println(\"| l   | $(Total_l_star[1]) | $(Total_l_star[2]) | $(Total_l_star[16]) |\")\n",
    "println(\"| h   | $(Total_h_star[1]) | $(Total_h_star[2]) | $(Total_h_star[16]) |\")\n"
   ]
  },
  {
   "cell_type": "markdown",
   "id": "af14f655",
   "metadata": {},
   "source": [
    "## x_star in complete network"
   ]
  },
  {
   "cell_type": "markdown",
   "id": "88d6e45a",
   "metadata": {},
   "source": [
    "### l type"
   ]
  },
  {
   "cell_type": "code",
   "execution_count": 62,
   "id": "0bd9f3c0",
   "metadata": {},
   "outputs": [
    {
     "data": {
      "text/latex": [
       "$\\left[\\begin{smallmatrix}3.83333333333333\\\\3.83333333333333\\\\3.83333333333333\\\\3.83333333333333\\\\3.83333333333333\\\\3.83333333333333\\\\3.83333333333333\\\\3.83333333333333\\\\3.83333333333333\\\\3.83333333333333\\\\3.83333333333333\\\\3.83333333333333\\\\3.83333333333333\\\\3.83333333333333\\\\3.83333333333333\\\\3.83333333333333\\end{smallmatrix}\\right]$"
      ],
      "text/plain": [
       "16×1 Matrix{Sym{PyCall.PyObject}}:\n",
       " 3.83333333333333\n",
       " 3.83333333333333\n",
       " 3.83333333333333\n",
       " 3.83333333333333\n",
       " 3.83333333333333\n",
       " 3.83333333333333\n",
       " 3.83333333333333\n",
       " 3.83333333333333\n",
       " 3.83333333333333\n",
       " 3.83333333333333\n",
       " 3.83333333333333\n",
       " 3.83333333333333\n",
       " 3.83333333333333\n",
       " 3.83333333333333\n",
       " 3.83333333333333\n",
       " 3.83333333333333"
      ]
     },
     "metadata": {},
     "output_type": "display_data"
    }
   ],
   "source": [
    "Total_l_complete= a_11 * a_11_inv * inv(I - lambda_1 * E_beta_complete * G_complete)* SymPy.ones(16, 1) + a_12 * a_21_inv * inv(I - lambda_2 * E_beta_complete * G_complete)* SymPy.ones(16, 1) + a_11 * a_12_inv * inv(I - lambda_1 * E_beta_complete * G_complete)* SymPy.ones(16, 1) + a_12 * a_22_inv * inv(I - lambda_2 * E_beta_complete * G_complete) * SymPy.ones(16, 1)"
   ]
  },
  {
   "cell_type": "markdown",
   "id": "28e65dee",
   "metadata": {},
   "source": [
    "### h type"
   ]
  },
  {
   "cell_type": "code",
   "execution_count": 75,
   "id": "9d39028d",
   "metadata": {},
   "outputs": [
    {
     "data": {
      "text/latex": [
       "$\\left[\\begin{smallmatrix}4.25\\\\4.25\\\\4.25\\\\4.25\\\\4.25\\\\4.25\\\\4.25\\\\4.25\\\\4.25\\\\4.25\\\\4.25\\\\4.25\\\\4.25\\\\4.25\\\\4.25\\\\4.25\\end{smallmatrix}\\right]$"
      ],
      "text/plain": [
       "16×1 Matrix{Sym{PyCall.PyObject}}:\n",
       " 4.25000000000000\n",
       " 4.25000000000000\n",
       " 4.25000000000000\n",
       " 4.25000000000000\n",
       " 4.25000000000000\n",
       " 4.25000000000000\n",
       " 4.25000000000000\n",
       " 4.25000000000000\n",
       " 4.25000000000000\n",
       " 4.25000000000000\n",
       " 4.25000000000000\n",
       " 4.25000000000000\n",
       " 4.25000000000000\n",
       " 4.25000000000000\n",
       " 4.25000000000000\n",
       " 4.25000000000000"
      ]
     },
     "metadata": {},
     "output_type": "display_data"
    }
   ],
   "source": [
    "Total_h_complete= a_21 * a_11_inv * inv(I - lambda_1 * E_beta_complete * G_complete)* SymPy.ones(16, 1) + a_22 * a_21_inv * inv(I - lambda_2 * E_beta_complete * G_complete)* SymPy.ones(16, 1) + a_21 * a_12_inv * inv(I - lambda_1 * E_beta_complete * G_complete)* SymPy.ones(16, 1) + a_22 * a_22_inv * inv(I - lambda_2 * E_beta_complete * G_complete) * SymPy.ones(16, 1)"
   ]
  },
  {
   "cell_type": "code",
   "execution_count": 76,
   "id": "b8b3080f",
   "metadata": {},
   "outputs": [
    {
     "name": "stdout",
     "output_type": "stream",
     "text": [
      "Total Welfare in complete network\n",
      "| Type | Group Leader | Member | Higher Leader |\n",
      "|-----|--------------|--------|---------------|\n",
      "| l   | 3.83333333333333 | 3.83333333333333 | 3.83333333333333 |\n",
      "| h   | 4.25000000000000 | 4.25000000000000 | 4.25000000000000 |\n"
     ]
    }
   ],
   "source": [
    "println(\"Total Welfare in complete network\")\n",
    "println(\"| Type | Group Leader | Member | Higher Leader |\")\n",
    "println(\"|-----|--------------|--------|---------------|\")\n",
    "println(\"| l   | $(Total_l_complete[1]) | $(Total_l_complete[2]) | $(Total_l_complete[16]) |\")\n",
    "println(\"| h   | $(Total_h_complete[1]) | $(Total_h_complete[2]) | $(Total_h_complete[16]) |\")"
   ]
  },
  {
   "cell_type": "markdown",
   "id": "746ba2e0",
   "metadata": {},
   "source": [
    "## Natural disaster shock in productivity"
   ]
  },
  {
   "cell_type": "code",
   "execution_count": null,
   "id": "b2ac9803",
   "metadata": {},
   "outputs": [],
   "source": [
    "# Suppose normally we have \\alpha=0.9, natural disaster decerase it to 0.5\n",
    "alpha_natural = 0.9\n",
    "alpha_natural_disaster = 0.5\n"
   ]
  },
  {
   "cell_type": "markdown",
   "id": "fd25e225",
   "metadata": {},
   "source": [
    "# check how a* performs in q"
   ]
  },
  {
   "cell_type": "code",
   "execution_count": 107,
   "id": "5d24b360",
   "metadata": {},
   "outputs": [
    {
     "name": "stdout",
     "output_type": "stream",
     "text": [
      "(3.0*q^2 - 2.0*q + 1.0)/(3.0*q^2 - 3.0*q) - 2.0*(1.5*q^2 - 1.5*q - 2.12132034355964*(0.5*q^4 - q^3 + 0.555555555555556*q^2 - 0.0555555555555556*q + 0.0138888888888889)^0.5 + 0.75)/(3.0*q^2 - 3.0*q)\n",
      "(3.0*q^2 - 2.0*q + 1.0)/(3.0*q^2 - 3.0*q) - 2.0*(1.5*q^2 - 1.5*q + 2.12132034355964*(0.5*q^4 - q^3 + 0.555555555555556*q^2 - 0.0555555555555556*q + 0.0138888888888889)^0.5 + 0.75)/(3.0*q^2 - 3.0*q)\n",
      "1.00000000000000\n",
      "1.00000000000000\n",
      "1.0*(0.353553390593274*q^2 - 0.353553390593274*q)/(0.5*q^4 - q^3 + 0.555555555555556*q^2 - 0.0555555555555556*q + 0.0138888888888889)^0.5\n",
      "1.0*(-0.117851130197758*q + 0.5*(0.5*q^4 - q^3 + 0.555555555555556*q^2 - 0.0555555555555556*q + 0.0138888888888889)^0.5 + 0.058925565098879)/(0.5*q^4 - q^3 + 0.555555555555556*q^2 - 0.0555555555555556*q + 0.0138888888888889)^0.5\n",
      "1.0*(-0.353553390593274*q^2 + 0.353553390593274*q)/(0.5*q^4 - q^3 + 0.555555555555556*q^2 - 0.0555555555555556*q + 0.0138888888888889)^0.5\n",
      "1.0*(0.117851130197758*q + 0.5*(0.5*q^4 - q^3 + 0.555555555555556*q^2 - 0.0555555555555556*q + 0.0138888888888889)^0.5 - 0.058925565098879)/(0.5*q^4 - q^3 + 0.555555555555556*q^2 - 0.0555555555555556*q + 0.0138888888888889)^0.5\n"
     ]
    }
   ],
   "source": [
    "println(a_11_gen)\n",
    "println(a_12_gen)\n",
    "println(a_21_gen)\n",
    "println(a_22_gen)\n",
    "println(a_11_gen_inv)\n",
    "println(a_12_gen_inv)\n",
    "println(a_21_gen_inv)\n",
    "println(a_22_gen_inv)"
   ]
  },
  {
   "cell_type": "code",
   "execution_count": 130,
   "id": "8b38ddaa",
   "metadata": {},
   "outputs": [
    {
     "data": {
      "text/latex": [
       "$\\frac{0.117851130197758 q + 0.5 \\left(0.5 q^{4} - q^{3} + 0.555555555555556 q^{2} - 0.0555555555555556 q + 0.0138888888888889\\right)^{0.5} - 0.058925565098879}{\\left(0.5 q^{4} - q^{3} + 0.555555555555556 q^{2} - 0.0555555555555556 q + 0.0138888888888889\\right)^{0.5}}$"
      ],
      "text/plain": [
       "/                                                                              >\n",
       "|                          /     4    3                      2                 >\n",
       "\\0.117851130197758*q + 0.5*\\0.5*q  - q  + 0.555555555555556*q  - 0.05555555555 >\n",
       "\n",
       ">                              0.5                    \\                        >\n",
       ">                             \\                       | /     4    3           >\n",
       "> 55556*q + 0.0138888888888889/    - 0.058925565098879/*\\0.5*q  - q  + 0.55555 >\n",
       "\n",
       ">                                                           -0.5\n",
       ">             2                                            \\    \n",
       "> 5555555556*q  - 0.0555555555555556*q + 0.0138888888888889/    "
      ]
     },
     "metadata": {},
     "output_type": "display_data"
    }
   ],
   "source": [
    "n=16\n",
    "beta_h = 0.2\n",
    "beta_l = 0.1\n",
    "I_sym = SymPy.sympy.eye(n)\n",
    "# Define symbolic variable\n",
    "q = symbols(\"q\", real=true)\n",
    "\n",
    "# Copy the expression for lambda from the eigenvalues A_2 values\n",
    "lambda_1_gen_expr = 1.5*q^2 - 1.5*q - 2.12132034355964*(0.5*q^4 - q^3 + 0.555555555555556*q^2 - 0.0555555555555556*q + 0.0138888888888889)^0.5 + 0.75\n",
    "lambda_2_gen_expr = 1.5*q^2 - 1.5*q + 2.12132034355964*(0.5*q^4 - q^3 + 0.555555555555556*q^2 - 0.0555555555555556*q + 0.0138888888888889)^0.5 + 0.75\n",
    "a_11_expr = (3.0*q^2 - 2.0*q + 1.0)/(3.0*q^2 - 3.0*q) - 2.0*(1.5*q^2 - 1.5*q - 2.12132034355964*(0.5*q^4 - q^3 + 0.555555555555556*q^2 - 0.0555555555555556*q + 0.0138888888888889)^0.5 + 0.75)/(3.0*q^2 - 3.0*q)\n",
    "a_12_expr = (3.0*q^2 - 2.0*q + 1.0)/(3.0*q^2 - 3.0*q) - 2.0*(1.5*q^2 - 1.5*q + 2.12132034355964*(0.5*q^4 - q^3 + 0.555555555555556*q^2 - 0.0555555555555556*q + 0.0138888888888889)^0.5 + 0.75)/(3.0*q^2 - 3.0*q)\n",
    "a_11_inv_expr = 1.0*(0.353553390593274*q^2 - 0.353553390593274*q)/(0.5*q^4 - q^3 + 0.555555555555556*q^2 - 0.0555555555555556*q + 0.0138888888888889)^0.5\n",
    "a_12_inv_expr = 1.0*(-0.117851130197758*q + 0.5*(0.5*q^4 - q^3 + 0.555555555555556*q^2 - 0.0555555555555556*q + 0.0138888888888889)^0.5 + 0.058925565098879)/(0.5*q^4 - q^3 + 0.555555555555556*q^2 - 0.0555555555555556*q + 0.0138888888888889)^0.5\n",
    "a_21_inv_expr = 1.0*(-0.353553390593274*q^2 + 0.353553390593274*q)/(0.5*q^4 - q^3 + 0.555555555555556*q^2 - 0.0555555555555556*q + 0.0138888888888889)^0.5\n",
    "a_22_inv_expr = 1.0*(0.117851130197758*q + 0.5*(0.5*q^4 - q^3 + 0.555555555555556*q^2 - 0.0555555555555556*q + 0.0138888888888889)^0.5 - 0.058925565098879)/(0.5*q^4 - q^3 + 0.555555555555556*q^2 - 0.0555555555555556*q + 0.0138888888888889)^0.5\n"
   ]
  },
  {
   "cell_type": "markdown",
   "id": "4690aff0",
   "metadata": {},
   "source": [
    "## test for l type in default network"
   ]
  },
  {
   "cell_type": "code",
   "execution_count": 136,
   "id": "9645ab81",
   "metadata": {},
   "outputs": [
    {
     "name": "stdout",
     "output_type": "stream",
     "text": [
      "At q= 0.1, x_star_groupleader = 1.41210111014765, x_star_members = 1.33762981239169, x_star_higherleader = 1.26315851463572\n",
      "At q= 0.3, x_star_groupleader = 1.35474385053318, x_star_members = 1.28982971522787, x_star_higherleader = 1.22491557992255\n",
      "At q= 0.5, x_star_groupleader = 1.31054131054131, x_star_members = 1.25356125356125, x_star_higherleader = 1.19658119658120\n",
      "At q= 0.7, x_star_groupleader = 1.26917441135715, x_star_members = 1.21977897975084, x_star_higherleader = 1.17038354814452\n",
      "At q= 0.9, x_star_groupleader = 1.22170495117251, x_star_members = 1.18061659604691, x_star_higherleader = 1.13952824092131\n"
     ]
    }
   ],
   "source": [
    "for test_q in [0.1,0.3, 0.5, 0.7, 0.9]\n",
    "    \n",
    "    # Substitute q into lambda_expr\n",
    "    λ_val_1 = SymPy.subs(lambda_1_gen_expr, q => test_q)\n",
    "    λ_val_2 = SymPy.subs(lambda_2_gen_expr, q => test_q)\n",
    "    a11 = SymPy.subs(a_11_expr, q => test_q)\n",
    "    a12 = SymPy.subs(a_12_expr, q => test_q)\n",
    "    a11_inv = SymPy.subs(a_11_inv_expr, q => test_q)\n",
    "    a12_inv = SymPy.subs(a_12_inv_expr, q => test_q)\n",
    "    a21_inv = SymPy.subs(a_21_inv_expr, q => test_q)\n",
    "    a22_inv = SymPy.subs(a_22_inv_expr, q => test_q)\n",
    "    # Build A matrix\n",
    "    Total_l_star_gen= a11 * a11_inv * inv(I - λ_val_1 * E_beta_complete * G)* SymPy.ones(16, 1) + a12 * a21_inv * inv(I - λ_val_2 * E_beta_complete * G)* SymPy.ones(16, 1) + a11 * a12_inv * inv(I - λ_val_1 * E_beta_complete * G)* SymPy.ones(16, 1) + a12 * a22_inv * inv(I - λ_val_2 * E_beta_complete * G) * SymPy.ones(16, 1)\n",
    "    x_star_groupleader = Total_l_star_gen[1]\n",
    "    x_star_members = Total_l_star_gen[2]\n",
    "    x_star_higherleader = Total_l_star_gen[16]\n",
    "\n",
    "    println(\"At q= $test_q, x_star_groupleader = $x_star_groupleader, x_star_members = $x_star_members, x_star_higherleader = $x_star_higherleader\")\n",
    "end"
   ]
  },
  {
   "cell_type": "markdown",
   "id": "e10d7cae",
   "metadata": {},
   "source": [
    "## test for h type in default network"
   ]
  },
  {
   "cell_type": "code",
   "execution_count": 143,
   "id": "b73bcc1b",
   "metadata": {},
   "outputs": [
    {
     "name": "stdout",
     "output_type": "stream",
     "text": [
      "At q= 0.1, x_star_groupleader = 1.22170495117250, x_star_members = 1.18061659604690, x_star_higherleader = 1.13952824092130\n",
      "At q= 0.3, x_star_groupleader = 1.26917441135715, x_star_members = 1.21977897975083, x_star_higherleader = 1.17038354814452\n",
      "At q= 0.5, x_star_groupleader = 1.31054131054131, x_star_members = 1.25356125356125, x_star_higherleader = 1.19658119658120\n",
      "At q= 0.7, x_star_groupleader = 1.35474385053319, x_star_members = 1.28982971522787, x_star_higherleader = 1.22491557992255\n",
      "At q= 0.9, x_star_groupleader = 1.41210111014765, x_star_members = 1.33762981239169, x_star_higherleader = 1.26315851463572\n"
     ]
    }
   ],
   "source": [
    "for test_q in [0.1,0.3, 0.5, 0.7, 0.9]\n",
    "    \n",
    "    # Substitute q into lambda_expr\n",
    "    λ_val_1 = SymPy.subs(lambda_1_gen_expr, q => test_q)\n",
    "    λ_val_2 = SymPy.subs(lambda_2_gen_expr, q => test_q)\n",
    "    a11 = SymPy.subs(a_11_expr, q => test_q)\n",
    "    a12 = SymPy.subs(a_12_expr, q => test_q)\n",
    "    a11_inv = SymPy.subs(a_11_inv_expr, q => test_q)\n",
    "    a12_inv = SymPy.subs(a_12_inv_expr, q => test_q)\n",
    "    a21_inv = SymPy.subs(a_21_inv_expr, q => test_q)\n",
    "    a22_inv = SymPy.subs(a_22_inv_expr, q => test_q)\n",
    "    # Build A matrix\n",
    "    Total_h_star_gen= a_21_gen * a11_inv * inv(I - λ_val_1 * E_beta_complete * G)* SymPy.ones(16, 1) + a_22_gen * a21_inv * inv(I - λ_val_2 * E_beta_complete * G)* SymPy.ones(16, 1) + a_21_gen * a12_inv * inv(I - λ_val_1 * E_beta_complete * G)* SymPy.ones(16, 1) + a_22_gen * a22_inv * inv(I - λ_val_2 * E_beta_complete * G) * SymPy.ones(16, 1)\n",
    "    x_star_groupleader = Total_h_star_gen[1]\n",
    "    x_star_members = Total_h_star_gen[2]\n",
    "    x_star_higherleader = Total_h_star_gen[16]\n",
    "\n",
    "    println(\"At q= $test_q, x_star_groupleader = $x_star_groupleader, x_star_members = $x_star_members, x_star_higherleader = $x_star_higherleader\")\n",
    "end"
   ]
  }
 ],
 "metadata": {
  "kernelspec": {
   "display_name": "Julia 1.11.0",
   "language": "julia",
   "name": "julia-1.11"
  },
  "language_info": {
   "file_extension": ".jl",
   "mimetype": "application/julia",
   "name": "julia",
   "version": "1.11.0"
  }
 },
 "nbformat": 4,
 "nbformat_minor": 5
}
